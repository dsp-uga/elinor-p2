{
 "cells": [
  {
   "cell_type": "code",
   "execution_count": 157,
   "metadata": {},
   "outputs": [],
   "source": [
    "import pyspark\n",
    "from operator import add\n",
    "from pyspark import SparkConf\n",
    "from pyspark.ml.feature import NGram\n",
    "from pyspark.sql.functions import col,udf\n",
    "from pyspark.sql import SQLContext,Row\n",
    "from operator import add\n",
    "import numpy as np\n",
    "import string\n",
    "from pyspark.ml.feature import HashingTF, IDF, Tokenizer,NGram,CountVectorizer\n",
    "from pyspark.ml.feature import StringIndexer\n",
    "import pyspark\n",
    "from pyspark.ml import Pipeline\n",
    "from pyspark.ml.classification import RandomForestClassifier\n",
    "from pyspark.ml.feature import IndexToString, StringIndexer, VectorIndexer\n",
    "from pyspark.ml.evaluation import MulticlassClassificationEvaluator\n",
    "#sc = pyspark.SparkContext('local[*]',appName=\"DocClassification\")\n",
    "#sqlc = SQLContext(sc)\n",
    "\n"
   ]
  },
  {
   "cell_type": "code",
   "execution_count": 158,
   "metadata": {},
   "outputs": [
    {
     "name": "stdout",
     "output_type": "stream",
     "text": [
      "+--------------------+---+\n",
      "|                 doc|did|\n",
      "+--------------------+---+\n",
      "|This is something...|  0|\n",
      "|To test something...|  1|\n",
      "|I need to do some...|  2|\n",
      "|This is something...|  3|\n",
      "|To test something...|  4|\n",
      "|I need to do some...|  5|\n",
      "|This is something...|  6|\n",
      "|To test something...|  7|\n",
      "|I need to do some...|  8|\n",
      "|This is something...|  9|\n",
      "|To test something...| 10|\n",
      "|I need to do some...| 11|\n",
      "+--------------------+---+\n",
      "\n",
      "+---+---+\n",
      "|did|lab|\n",
      "+---+---+\n",
      "|  0|  0|\n",
      "|  1|  1|\n",
      "|  2|  1|\n",
      "|  3|  0|\n",
      "|  4|  0|\n",
      "|  5|  1|\n",
      "|  6|  0|\n",
      "|  7|  1|\n",
      "|  8|  1|\n",
      "|  9|  0|\n",
      "| 10|  0|\n",
      "| 11|  1|\n",
      "+---+---+\n",
      "\n"
     ]
    }
   ],
   "source": [
    "data = sc.parallelize([\"This is something I really want to test.\",\n",
    "                       \"To test something is something I really want to do.\",\n",
    "                       \"I need to do something that I want to do which is to test something.\",\n",
    "                       \"This is something I really want to test.\",\n",
    "                       \"To test something is something I really want to do.\",\n",
    "                       \"I need to do something that I want to do which is to test something.\",\n",
    "                       \"This is something I really want to test.\",\n",
    "                       \"To test something is something I really want to do.\",\n",
    "                       \"I need to do something that I want to do which is to test something.\",\n",
    "                       \"This is something I really want to test.\",\n",
    "                       \"To test something is something I really want to do.\",\n",
    "                       \"I need to do something that I want to do which is to test something.\"])\\\n",
    "            .zipWithIndex()\\\n",
    "            .toDF(['doc','did'])\n",
    "\n",
    "data.show()\n",
    "labels = sc.parallelize([(1,0),(2,1),(3,1),(4,0),(5,0),(6,1),(7,0),(8,1),(9,1),(10,0),(11,0),(12,1)])\\\n",
    "            .map(lambda x: (x[0]-1,x[1])).toDF(['did','lab'])\n",
    "labels.show()"
   ]
  },
  {
   "cell_type": "code",
   "execution_count": 159,
   "metadata": {},
   "outputs": [
    {
     "name": "stdout",
     "output_type": "stream",
     "text": [
      "+---+--------------------+--------------------+\n",
      "|did|               words|               grams|\n",
      "+---+--------------------+--------------------+\n",
      "|  0|[this, is, someth...|[this is, is some...|\n",
      "|  1|[to, test, someth...|[to test, test so...|\n",
      "|  2|[i, need, to, do,...|[i need, need to,...|\n",
      "|  3|[this, is, someth...|[this is, is some...|\n",
      "|  4|[to, test, someth...|[to test, test so...|\n",
      "|  5|[i, need, to, do,...|[i need, need to,...|\n",
      "|  6|[this, is, someth...|[this is, is some...|\n",
      "|  7|[to, test, someth...|[to test, test so...|\n",
      "|  8|[i, need, to, do,...|[i need, need to,...|\n",
      "|  9|[this, is, someth...|[this is, is some...|\n",
      "| 10|[to, test, someth...|[to test, test so...|\n",
      "| 11|[i, need, to, do,...|[i need, need to,...|\n",
      "+---+--------------------+--------------------+\n",
      "\n"
     ]
    }
   ],
   "source": [
    "toker = Tokenizer(inputCol = \"doc\",outputCol = \"words\")\n",
    "data = toker.transform(data)\n",
    "grammer = NGram(n=2,inputCol=\"words\",outputCol=\"grams\")\n",
    "grammer\n",
    "data = grammer.transform(data).drop('doc')\n",
    "data.show()"
   ]
  },
  {
   "cell_type": "code",
   "execution_count": 160,
   "metadata": {},
   "outputs": [
    {
     "name": "stdout",
     "output_type": "stream",
     "text": [
      "+---+--------------------+\n",
      "|did|            features|\n",
      "+---+--------------------+\n",
      "|  0|[this, is, someth...|\n",
      "|  1|[to, test, someth...|\n",
      "|  2|[i, need, to, do,...|\n",
      "|  3|[this, is, someth...|\n",
      "|  4|[to, test, someth...|\n",
      "|  5|[i, need, to, do,...|\n",
      "|  6|[this, is, someth...|\n",
      "|  7|[to, test, someth...|\n",
      "|  8|[i, need, to, do,...|\n",
      "|  9|[this, is, someth...|\n",
      "| 10|[to, test, someth...|\n",
      "| 11|[i, need, to, do,...|\n",
      "+---+--------------------+\n",
      "\n"
     ]
    }
   ],
   "source": [
    "data = data.rdd.map(lambda x: Row(x['did'],x['words']+x['grams'])).toDF(['did','features'])\n",
    "data.show()\n"
   ]
  },
  {
   "cell_type": "code",
   "execution_count": 161,
   "metadata": {},
   "outputs": [],
   "source": [
    "cv = CountVectorizer(inputCol=\"features\", outputCol=\"featureVecs\")\n",
    "data = cv.fit(data).transform(data)"
   ]
  },
  {
   "cell_type": "markdown",
   "metadata": {},
   "source": [
    "You can very easily add the labels onto your DF if you already have them joined in..."
   ]
  },
  {
   "cell_type": "code",
   "execution_count": 162,
   "metadata": {},
   "outputs": [
    {
     "name": "stdout",
     "output_type": "stream",
     "text": [
      "+---+--------------------+--------------------+\n",
      "|did|            features|         featureVecs|\n",
      "+---+--------------------+--------------------+\n",
      "|  0|[this, is, someth...|(37,[0,1,2,3,4,5,...|\n",
      "|  1|[to, test, someth...|(37,[0,1,2,3,4,5,...|\n",
      "|  2|[i, need, to, do,...|(37,[0,1,2,3,4,5,...|\n",
      "|  3|[this, is, someth...|(37,[0,1,2,3,4,5,...|\n",
      "|  4|[to, test, someth...|(37,[0,1,2,3,4,5,...|\n",
      "|  5|[i, need, to, do,...|(37,[0,1,2,3,4,5,...|\n",
      "|  6|[this, is, someth...|(37,[0,1,2,3,4,5,...|\n",
      "|  7|[to, test, someth...|(37,[0,1,2,3,4,5,...|\n",
      "|  8|[i, need, to, do,...|(37,[0,1,2,3,4,5,...|\n",
      "|  9|[this, is, someth...|(37,[0,1,2,3,4,5,...|\n",
      "| 10|[to, test, someth...|(37,[0,1,2,3,4,5,...|\n",
      "| 11|[i, need, to, do,...|(37,[0,1,2,3,4,5,...|\n",
      "+---+--------------------+--------------------+\n",
      "\n"
     ]
    }
   ],
   "source": [
    "data.show()"
   ]
  },
  {
   "cell_type": "code",
   "execution_count": 164,
   "metadata": {},
   "outputs": [
    {
     "name": "stdout",
     "output_type": "stream",
     "text": [
      "+---+--------------------+--------------------+---+\n",
      "|did|            features|         featureVecs|lab|\n",
      "+---+--------------------+--------------------+---+\n",
      "|  0|[this, is, someth...|(37,[0,1,2,3,4,5,...|  0|\n",
      "|  7|[to, test, someth...|(37,[0,1,2,3,4,5,...|  1|\n",
      "|  6|[this, is, someth...|(37,[0,1,2,3,4,5,...|  0|\n",
      "|  9|[this, is, someth...|(37,[0,1,2,3,4,5,...|  0|\n",
      "|  5|[i, need, to, do,...|(37,[0,1,2,3,4,5,...|  1|\n",
      "|  1|[to, test, someth...|(37,[0,1,2,3,4,5,...|  1|\n",
      "| 10|[to, test, someth...|(37,[0,1,2,3,4,5,...|  0|\n",
      "|  3|[this, is, someth...|(37,[0,1,2,3,4,5,...|  0|\n",
      "|  8|[i, need, to, do,...|(37,[0,1,2,3,4,5,...|  1|\n",
      "| 11|[i, need, to, do,...|(37,[0,1,2,3,4,5,...|  1|\n",
      "|  2|[i, need, to, do,...|(37,[0,1,2,3,4,5,...|  1|\n",
      "|  4|[to, test, someth...|(37,[0,1,2,3,4,5,...|  0|\n",
      "+---+--------------------+--------------------+---+\n",
      "\n"
     ]
    }
   ],
   "source": [
    "data = data.join(labels,['did'])\n",
    "data.show()"
   ]
  },
  {
   "cell_type": "code",
   "execution_count": null,
   "metadata": {
    "collapsed": true
   },
   "outputs": [],
   "source": []
  }
 ],
 "metadata": {
  "kernelspec": {
   "display_name": "Python 3",
   "language": "python",
   "name": "python3"
  },
  "language_info": {
   "codemirror_mode": {
    "name": "ipython",
    "version": 3
   },
   "file_extension": ".py",
   "mimetype": "text/x-python",
   "name": "python",
   "nbconvert_exporter": "python",
   "pygments_lexer": "ipython3",
   "version": "3.6.1"
  }
 },
 "nbformat": 4,
 "nbformat_minor": 2
}
