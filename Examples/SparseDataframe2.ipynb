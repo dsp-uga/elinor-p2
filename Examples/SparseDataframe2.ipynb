{
 "cells": [
  {
   "cell_type": "code",
   "execution_count": 26,
   "metadata": {},
   "outputs": [],
   "source": [
    "import pyspark\n",
    "from operator import add\n",
    "from pyspark import SparkConf\n",
    "from pyspark.ml.feature import NGram\n",
    "from pyspark.sql.functions import col,udf\n",
    "from pyspark.sql import SQLContext\n",
    "from operator import add\n",
    "import numpy as np\n",
    "from pyspark.mllib.linalg.distributed import CoordinateMatrix, MatrixEntry\n",
    "import string\n",
    "from pyspark.mllib.util import MLUtils\n",
    "from pyspark.ml.linalg import Vectors\n",
    "\n",
    "from pyspark.mllib.linalg import Vectors as MLLibVectors\n",
    "from pyspark.sql.functions import udf\n",
    "from pyspark.ml.linalg import VectorUDT as VectorUDTML\n",
    "\n",
    "from pyspark.ml import Pipeline\n",
    "from pyspark.ml.classification import RandomForestClassifier\n",
    "from pyspark.ml.feature import IndexToString, StringIndexer, VectorIndexer\n",
    "from pyspark.ml.evaluation import MulticlassClassificationEvaluator\n",
    "\n",
    "as_ml = udf(lambda v: v.asML() if v is not None else None, VectorUDTML())\n",
    "\n",
    "#sc = pyspark.SparkContext('local[*]',appName=\"DocClassification\")\n",
    "#sqlc = SQLContext(sc)\n",
    "\n"
   ]
  },
  {
   "cell_type": "markdown",
   "metadata": {},
   "source": []
  },
  {
   "cell_type": "code",
   "execution_count": 38,
   "metadata": {},
   "outputs": [
    {
     "name": "stdout",
     "output_type": "stream",
     "text": [
      "[((0, 'this'), 1), ((0, 'is'), 1), ((0, 'something'), 1), ((0, 'i'), 1), ((0, 'really'), 1), ((0, 'want'), 1), ((0, 'to'), 1), ((0, 'test'), 1), ((1, 'to'), 1), ((1, 'test'), 1), ((1, 'something'), 1), ((1, 'is'), 1), ((1, 'something'), 1), ((1, 'i'), 1), ((1, 'really'), 1), ((1, 'want'), 1), ((1, 'to'), 1), ((1, 'do'), 1), ((2, 'i'), 1), ((2, 'need'), 1), ((2, 'to'), 1), ((2, 'do'), 1), ((2, 'something'), 1), ((2, 'that'), 1), ((2, 'i'), 1), ((2, 'want'), 1), ((2, 'to'), 1), ((2, 'do'), 1), ((2, 'which'), 1), ((2, 'is'), 1), ((2, 'to'), 1), ((2, 'test'), 1), ((2, 'something'), 1), ((3, 'training'), 1), ((3, 'something'), 1), ((3, 'is'), 1), ((3, 'something'), 1), ((3, 'that'), 1), ((3, 'i'), 1), ((3, 'needed'), 1), ((3, 'to'), 1), ((3, 'do'), 1), ((4, 'i'), 1), ((4, 'trained'), 1), ((4, 'something'), 1), ((4, 'and'), 1), ((4, 'that'), 1), ((4, 'something'), 1), ((4, 'was'), 1), ((4, 'what'), 1), ((4, 'i'), 1), ((4, 'needed'), 1), ((4, 'to'), 1), ((4, 'do'), 1), ((5, 'something'), 1), ((5, 'i'), 1), ((5, 'needed'), 1), ((5, 'to'), 1), ((5, 'do'), 1), ((5, 'was'), 1), ((5, 'to'), 1), ((5, 'train'), 1), ((5, 'something'), 1), ((6, 'something'), 1), ((6, 'trained'), 1), ((6, 'is'), 1), ((6, 'something'), 1), ((6, 'that'), 1), ((6, 'needed'), 1), ((6, 'to'), 1), ((6, 'be'), 1), ((6, 'done'), 1), ((7, 'if'), 1), ((7, 'you'), 1), ((7, 'want'), 1), ((7, 'to'), 1), ((7, 'train'), 1), ((7, 'something'), 1), ((7, 'something'), 1), ((7, 'has'), 1), ((7, 'to'), 1), ((7, 'be'), 1), ((7, 'trained'), 1), ((8, 'train'), 1), ((8, 'it'), 1), ((8, 'like'), 1), ((8, \"you've\"), 1), ((8, 'never'), 1), ((8, 'trained'), 1), ((8, 'it'), 1), ((8, 'before'), 1)]\n",
      "+---+-----+\n",
      "|did|label|\n",
      "+---+-----+\n",
      "|  0|    1|\n",
      "|  1|    0|\n",
      "|  2|    1|\n",
      "|  3|    1|\n",
      "|  4|    0|\n",
      "|  5|    0|\n",
      "|  6|    1|\n",
      "+---+-----+\n",
      "\n",
      "[('this', (0, 1)), ('is', (0, 1)), ('test', (0, 1)), ('to', (1, 2)), ('i', (2, 2)), ('do', (2, 2)), ('something', (2, 2)), ('needed', (4, 1)), ('to', (5, 2)), ('train', (5, 1)), ('something', (6, 2)), ('if', (7, 1)), ('want', (7, 1)), ('never', (8, 1)), ('before', (8, 1)), ('to', (0, 1)), ('test', (1, 1)), ('is', (1, 1)), ('want', (2, 1)), ('something', (3, 2)), ('i', (3, 1)), ('do', (3, 1)), ('trained', (4, 1)), ('and', (4, 1)), ('that', (4, 1)), ('to', (4, 1)), ('needed', (5, 1)), ('done', (6, 1)), ('something', (7, 2)), ('train', (8, 1)), ('trained', (8, 1)), ('something', (0, 1)), ('i', (0, 1)), ('really', (0, 1)), ('want', (1, 1)), ('is', (2, 1)), ('test', (2, 1)), ('that', (3, 1)), ('to', (3, 1)), ('i', (4, 2)), ('something', (4, 2)), ('was', (4, 1)), ('do', (4, 1)), ('is', (6, 1)), ('needed', (6, 1)), ('you', (7, 1)), ('to', (7, 2)), ('train', (7, 1)), ('has', (7, 1)), ('be', (7, 1)), ('trained', (7, 1)), ('like', (8, 1)), ('want', (0, 1)), ('something', (1, 2)), ('i', (1, 1)), ('really', (1, 1)), ('do', (1, 1)), ('need', (2, 1)), ('to', (2, 3)), ('that', (2, 1)), ('which', (2, 1)), ('training', (3, 1)), ('is', (3, 1)), ('needed', (3, 1)), ('what', (4, 1)), ('something', (5, 2)), ('i', (5, 1)), ('do', (5, 1)), ('was', (5, 1)), ('trained', (6, 1)), ('that', (6, 1)), ('to', (6, 1)), ('be', (6, 1)), ('it', (8, 2)), (\"you've\", (8, 1))]\n"
     ]
    }
   ],
   "source": [
    "def swap(x):\n",
    "    return (x[1],x[0])\n",
    "\n",
    "strs = sc.parallelize([\"This is something I really want to test.\",\n",
    "                       \"To test something is something I really want to do.\",\n",
    "                       \"I need to do something that I want to do which is to test something.\",\n",
    "                       \"Training something is something that I needed to do.\",\n",
    "                       \"I trained something and that something was what I needed to do.\",\n",
    "                       \"Something I needed to do was to train something.\",\n",
    "                       \"Something trained is something that needed to be done.\",\n",
    "                       \"If you want to train something something has to be trained.\",\n",
    "                       \"Train it like you've never trained it before.\"])\n",
    "strs = strs.zipWithIndex()\\\n",
    "            .map(lambda x: swap(x))\\\n",
    "            .flatMapValues(lambda x: x.split())\\\n",
    "            .mapValues(lambda x: x.lower().strip(string.punctuation))\\\n",
    "            .map(lambda x: ((x[0],x[1]),1))\n",
    "            \n",
    "labs = sc.parallelize([(0,1),(1,0),(2,1),(3,1),(4,0),(5,0),(6,1),]).toDF([\"did\",\"label\"])\n",
    "            \n",
    "print(strs.collect())\n",
    "labs.show()\n",
    "\n",
    "sstrs = strs.reduceByKey(add)\\\n",
    "            .map(lambda x: (x[0][1],(x[0][0],x[1])))\n",
    "    \n",
    "vocab = sstrs.keys().distinct().zipWithIndex()\n",
    "print(sstrs.collect())"
   ]
  },
  {
   "cell_type": "code",
   "execution_count": 103,
   "metadata": {},
   "outputs": [
    {
     "name": "stdout",
     "output_type": "stream",
     "text": [
      "[(0, 0, 1.0), (0, 2, 1.0), (0, 3, 1.0), (0, 13, 1.0), (0, 5, 1.0), (0, 14, 1.0), (0, 15, 1.0), (0, 18, 1.0), (1, 0, 1.0), (1, 2, 2.0), (1, 3, 1.0), (1, 1, 1.0), (1, 5, 2.0), (1, 14, 1.0), (1, 15, 1.0), (1, 18, 1.0), (2, 0, 2.0), (2, 2, 2.0), (2, 9, 1.0), (2, 10, 1.0), (2, 11, 1.0), (2, 1, 2.0), (2, 5, 3.0), (2, 14, 1.0), (2, 15, 1.0), (2, 18, 1.0), (3, 0, 1.0), (3, 2, 2.0), (3, 9, 1.0), (3, 16, 1.0), (3, 1, 1.0), (3, 5, 1.0), (3, 14, 1.0), (3, 17, 1.0), (4, 0, 2.0), (4, 2, 2.0), (4, 7, 1.0), (4, 9, 1.0), (4, 16, 1.0), (4, 20, 1.0), (4, 1, 1.0), (4, 4, 1.0), (4, 5, 1.0), (4, 8, 1.0), (5, 0, 1.0), (5, 2, 2.0), (5, 6, 1.0), (5, 16, 1.0), (5, 1, 1.0), (5, 4, 1.0), (5, 5, 2.0), (6, 2, 2.0), (6, 7, 1.0), (6, 9, 1.0), (6, 16, 1.0), (6, 19, 1.0), (6, 5, 1.0), (6, 12, 1.0), (6, 14, 1.0)]\n",
      "Row(did=0, features=SparseVector(21, {0: 1.0, 2: 1.0, 3: 1.0, 5: 1.0, 13: 1.0, 14: 1.0, 15: 1.0, 18: 1.0}))\n",
      "+---+--------------------+\n",
      "|did|            features|\n",
      "+---+--------------------+\n",
      "|  0|(21,[0,2,3,5,13,1...|\n",
      "|  1|(21,[0,1,2,3,5,14...|\n",
      "|  2|(21,[0,1,2,5,9,10...|\n",
      "|  3|(21,[0,1,2,5,9,14...|\n",
      "|  4|(21,[0,1,2,4,5,7,...|\n",
      "|  5|(21,[0,1,2,4,5,6,...|\n",
      "|  6|(21,[2,5,7,9,12,1...|\n",
      "+---+--------------------+\n",
      "\n"
     ]
    }
   ],
   "source": [
    "sstrs = strs.reduceByKey(add)\\\n",
    "            .map(lambda x: (x[0][1],(x[0][0],x[1])))\n",
    "    \n",
    "vocab = sstrs.keys().distinct().zipWithIndex()\n",
    "\n",
    "sstrs = sstrs.join(vocab).map(lambda x: (x[1][0][0],x[1][1],float(x[1][0][1])))\n",
    "print(sstrs.sortBy(lambda x: x[0]).collect())\n",
    "\n",
    "sstrs = sstrs.map(lambda x: MatrixEntry(x[0],x[1],float(x[2])))\n",
    "mat = CoordinateMatrix(sstrs).toIndexedRowMatrix().rows.toDF([\"did\",\"features\"])\n",
    "print(mat.head())\n",
    "mat.show()"
   ]
  },
  {
   "cell_type": "code",
   "execution_count": 108,
   "metadata": {},
   "outputs": [
    {
     "name": "stdout",
     "output_type": "stream",
     "text": [
      "+--------------------+-----+\n",
      "|            features|label|\n",
      "+--------------------+-----+\n",
      "|(21,[0,2,3,5,13,1...|    1|\n",
      "|(21,[2,5,7,9,12,1...|    1|\n",
      "|(21,[0,1,2,4,5,6,...|    0|\n",
      "|(21,[0,1,2,3,5,14...|    0|\n",
      "|(21,[0,1,2,5,9,14...|    1|\n",
      "|(21,[0,1,2,5,9,10...|    1|\n",
      "|(21,[0,1,2,4,5,7,...|    0|\n",
      "+--------------------+-----+\n",
      "\n"
     ]
    }
   ],
   "source": [
    "fin = mat.join(labs,['did']).drop(\"did\")\n",
    "fin.show()\n"
   ]
  },
  {
   "cell_type": "code",
   "execution_count": 109,
   "metadata": {},
   "outputs": [
    {
     "name": "stdout",
     "output_type": "stream",
     "text": [
      "+--------------------+-----+\n",
      "|            features|label|\n",
      "+--------------------+-----+\n",
      "|(21,[0,2,3,5,13,1...|    1|\n",
      "|(21,[2,5,7,9,12,1...|    1|\n",
      "|(21,[0,1,2,4,5,6,...|    0|\n",
      "|(21,[0,1,2,3,5,14...|    0|\n",
      "|(21,[0,1,2,5,9,14...|    1|\n",
      "|(21,[0,1,2,5,9,10...|    1|\n",
      "|(21,[0,1,2,4,5,7,...|    0|\n",
      "+--------------------+-----+\n",
      "\n"
     ]
    }
   ],
   "source": [
    "result = fin.withColumn(\"features\", as_ml(\"features\"))\n",
    "\n",
    "result.show()"
   ]
  },
  {
   "cell_type": "code",
   "execution_count": 110,
   "metadata": {},
   "outputs": [
    {
     "data": {
      "text/plain": [
       "[Row(features=SparseVector(21, {0: 1.0, 2: 1.0, 3: 1.0, 5: 1.0, 13: 1.0, 14: 1.0, 15: 1.0, 18: 1.0}), label=1),\n",
       " Row(features=SparseVector(21, {2: 2.0, 5: 1.0, 7: 1.0, 9: 1.0, 12: 1.0, 14: 1.0, 16: 1.0, 19: 1.0}), label=1),\n",
       " Row(features=SparseVector(21, {0: 1.0, 1: 1.0, 2: 2.0, 4: 1.0, 5: 2.0, 6: 1.0, 16: 1.0}), label=0),\n",
       " Row(features=SparseVector(21, {0: 1.0, 1: 1.0, 2: 2.0, 3: 1.0, 5: 2.0, 14: 1.0, 15: 1.0, 18: 1.0}), label=0),\n",
       " Row(features=SparseVector(21, {0: 1.0, 1: 1.0, 2: 2.0, 5: 1.0, 9: 1.0, 14: 1.0, 16: 1.0, 17: 1.0}), label=1),\n",
       " Row(features=SparseVector(21, {0: 2.0, 1: 2.0, 2: 2.0, 5: 3.0, 9: 1.0, 10: 1.0, 11: 1.0, 14: 1.0, 15: 1.0, 18: 1.0}), label=1),\n",
       " Row(features=SparseVector(21, {0: 2.0, 1: 1.0, 2: 2.0, 4: 1.0, 5: 1.0, 7: 1.0, 8: 1.0, 9: 1.0, 16: 1.0, 20: 1.0}), label=0)]"
      ]
     },
     "execution_count": 110,
     "metadata": {},
     "output_type": "execute_result"
    }
   ],
   "source": [
    "\n",
    "fin.rdd.collect()\n"
   ]
  },
  {
   "cell_type": "code",
   "execution_count": 111,
   "metadata": {},
   "outputs": [
    {
     "ename": "Py4JJavaError",
     "evalue": "An error occurred while calling o5006.fit.\n: org.apache.spark.SparkException: Job aborted due to stage failure: Task 20 in stage 2169.0 failed 1 times, most recent failure: Lost task 20.0 in stage 2169.0 (TID 11955, localhost, executor driver): org.apache.spark.SparkException: Failed to execute user defined function($anonfun$5: (string) => double)\n\tat org.apache.spark.sql.catalyst.expressions.GeneratedClass$GeneratedIterator.processNext(Unknown Source)\n\tat org.apache.spark.sql.execution.BufferedRowIterator.hasNext(BufferedRowIterator.java:43)\n\tat org.apache.spark.sql.execution.WholeStageCodegenExec$$anonfun$8$$anon$1.hasNext(WholeStageCodegenExec.scala:395)\n\tat scala.collection.Iterator$$anon$11.hasNext(Iterator.scala:408)\n\tat scala.collection.Iterator$$anon$11.hasNext(Iterator.scala:408)\n\tat scala.collection.Iterator$$anon$11.hasNext(Iterator.scala:408)\n\tat scala.collection.Iterator$$anon$11.hasNext(Iterator.scala:408)\n\tat scala.collection.Iterator$$anon$10.hasNext(Iterator.scala:389)\n\tat scala.collection.Iterator$class.foreach(Iterator.scala:893)\n\tat scala.collection.AbstractIterator.foreach(Iterator.scala:1336)\n\tat scala.collection.generic.Growable$class.$plus$plus$eq(Growable.scala:59)\n\tat scala.collection.mutable.ArrayBuffer.$plus$plus$eq(ArrayBuffer.scala:104)\n\tat scala.collection.mutable.ArrayBuffer.$plus$plus$eq(ArrayBuffer.scala:48)\n\tat scala.collection.TraversableOnce$class.to(TraversableOnce.scala:310)\n\tat scala.collection.AbstractIterator.to(Iterator.scala:1336)\n\tat scala.collection.TraversableOnce$class.toBuffer(TraversableOnce.scala:302)\n\tat scala.collection.AbstractIterator.toBuffer(Iterator.scala:1336)\n\tat scala.collection.TraversableOnce$class.toArray(TraversableOnce.scala:289)\n\tat scala.collection.AbstractIterator.toArray(Iterator.scala:1336)\n\tat org.apache.spark.rdd.RDD$$anonfun$take$1$$anonfun$29.apply(RDD.scala:1354)\n\tat org.apache.spark.rdd.RDD$$anonfun$take$1$$anonfun$29.apply(RDD.scala:1354)\n\tat org.apache.spark.SparkContext$$anonfun$runJob$5.apply(SparkContext.scala:2062)\n\tat org.apache.spark.SparkContext$$anonfun$runJob$5.apply(SparkContext.scala:2062)\n\tat org.apache.spark.scheduler.ResultTask.runTask(ResultTask.scala:87)\n\tat org.apache.spark.scheduler.Task.run(Task.scala:108)\n\tat org.apache.spark.executor.Executor$TaskRunner.run(Executor.scala:335)\n\tat java.util.concurrent.ThreadPoolExecutor.runWorker(ThreadPoolExecutor.java:1142)\n\tat java.util.concurrent.ThreadPoolExecutor$Worker.run(ThreadPoolExecutor.java:617)\n\tat java.lang.Thread.run(Thread.java:745)\nCaused by: org.apache.spark.SparkException: Unseen label: 1.  To handle unseen labels, set Param handleInvalid to keep.\n\tat org.apache.spark.ml.feature.StringIndexerModel$$anonfun$5.apply(StringIndexer.scala:222)\n\tat org.apache.spark.ml.feature.StringIndexerModel$$anonfun$5.apply(StringIndexer.scala:208)\n\t... 29 more\n\nDriver stacktrace:\n\tat org.apache.spark.scheduler.DAGScheduler.org$apache$spark$scheduler$DAGScheduler$$failJobAndIndependentStages(DAGScheduler.scala:1499)\n\tat org.apache.spark.scheduler.DAGScheduler$$anonfun$abortStage$1.apply(DAGScheduler.scala:1487)\n\tat org.apache.spark.scheduler.DAGScheduler$$anonfun$abortStage$1.apply(DAGScheduler.scala:1486)\n\tat scala.collection.mutable.ResizableArray$class.foreach(ResizableArray.scala:59)\n\tat scala.collection.mutable.ArrayBuffer.foreach(ArrayBuffer.scala:48)\n\tat org.apache.spark.scheduler.DAGScheduler.abortStage(DAGScheduler.scala:1486)\n\tat org.apache.spark.scheduler.DAGScheduler$$anonfun$handleTaskSetFailed$1.apply(DAGScheduler.scala:814)\n\tat org.apache.spark.scheduler.DAGScheduler$$anonfun$handleTaskSetFailed$1.apply(DAGScheduler.scala:814)\n\tat scala.Option.foreach(Option.scala:257)\n\tat org.apache.spark.scheduler.DAGScheduler.handleTaskSetFailed(DAGScheduler.scala:814)\n\tat org.apache.spark.scheduler.DAGSchedulerEventProcessLoop.doOnReceive(DAGScheduler.scala:1714)\n\tat org.apache.spark.scheduler.DAGSchedulerEventProcessLoop.onReceive(DAGScheduler.scala:1669)\n\tat org.apache.spark.scheduler.DAGSchedulerEventProcessLoop.onReceive(DAGScheduler.scala:1658)\n\tat org.apache.spark.util.EventLoop$$anon$1.run(EventLoop.scala:48)\n\tat org.apache.spark.scheduler.DAGScheduler.runJob(DAGScheduler.scala:630)\n\tat org.apache.spark.SparkContext.runJob(SparkContext.scala:2022)\n\tat org.apache.spark.SparkContext.runJob(SparkContext.scala:2043)\n\tat org.apache.spark.SparkContext.runJob(SparkContext.scala:2062)\n\tat org.apache.spark.rdd.RDD$$anonfun$take$1.apply(RDD.scala:1354)\n\tat org.apache.spark.rdd.RDDOperationScope$.withScope(RDDOperationScope.scala:151)\n\tat org.apache.spark.rdd.RDDOperationScope$.withScope(RDDOperationScope.scala:112)\n\tat org.apache.spark.rdd.RDD.withScope(RDD.scala:362)\n\tat org.apache.spark.rdd.RDD.take(RDD.scala:1327)\n\tat org.apache.spark.ml.tree.impl.DecisionTreeMetadata$.buildMetadata(DecisionTreeMetadata.scala:112)\n\tat org.apache.spark.ml.tree.impl.RandomForest$.run(RandomForest.scala:105)\n\tat org.apache.spark.ml.classification.RandomForestClassifier.train(RandomForestClassifier.scala:139)\n\tat org.apache.spark.ml.classification.RandomForestClassifier.train(RandomForestClassifier.scala:45)\n\tat org.apache.spark.ml.Predictor.fit(Predictor.scala:118)\n\tat sun.reflect.NativeMethodAccessorImpl.invoke0(Native Method)\n\tat sun.reflect.NativeMethodAccessorImpl.invoke(NativeMethodAccessorImpl.java:62)\n\tat sun.reflect.DelegatingMethodAccessorImpl.invoke(DelegatingMethodAccessorImpl.java:43)\n\tat java.lang.reflect.Method.invoke(Method.java:498)\n\tat py4j.reflection.MethodInvoker.invoke(MethodInvoker.java:244)\n\tat py4j.reflection.ReflectionEngine.invoke(ReflectionEngine.java:357)\n\tat py4j.Gateway.invoke(Gateway.java:280)\n\tat py4j.commands.AbstractCommand.invokeMethod(AbstractCommand.java:132)\n\tat py4j.commands.CallCommand.execute(CallCommand.java:79)\n\tat py4j.GatewayConnection.run(GatewayConnection.java:214)\n\tat java.lang.Thread.run(Thread.java:745)\nCaused by: org.apache.spark.SparkException: Failed to execute user defined function($anonfun$5: (string) => double)\n\tat org.apache.spark.sql.catalyst.expressions.GeneratedClass$GeneratedIterator.processNext(Unknown Source)\n\tat org.apache.spark.sql.execution.BufferedRowIterator.hasNext(BufferedRowIterator.java:43)\n\tat org.apache.spark.sql.execution.WholeStageCodegenExec$$anonfun$8$$anon$1.hasNext(WholeStageCodegenExec.scala:395)\n\tat scala.collection.Iterator$$anon$11.hasNext(Iterator.scala:408)\n\tat scala.collection.Iterator$$anon$11.hasNext(Iterator.scala:408)\n\tat scala.collection.Iterator$$anon$11.hasNext(Iterator.scala:408)\n\tat scala.collection.Iterator$$anon$11.hasNext(Iterator.scala:408)\n\tat scala.collection.Iterator$$anon$10.hasNext(Iterator.scala:389)\n\tat scala.collection.Iterator$class.foreach(Iterator.scala:893)\n\tat scala.collection.AbstractIterator.foreach(Iterator.scala:1336)\n\tat scala.collection.generic.Growable$class.$plus$plus$eq(Growable.scala:59)\n\tat scala.collection.mutable.ArrayBuffer.$plus$plus$eq(ArrayBuffer.scala:104)\n\tat scala.collection.mutable.ArrayBuffer.$plus$plus$eq(ArrayBuffer.scala:48)\n\tat scala.collection.TraversableOnce$class.to(TraversableOnce.scala:310)\n\tat scala.collection.AbstractIterator.to(Iterator.scala:1336)\n\tat scala.collection.TraversableOnce$class.toBuffer(TraversableOnce.scala:302)\n\tat scala.collection.AbstractIterator.toBuffer(Iterator.scala:1336)\n\tat scala.collection.TraversableOnce$class.toArray(TraversableOnce.scala:289)\n\tat scala.collection.AbstractIterator.toArray(Iterator.scala:1336)\n\tat org.apache.spark.rdd.RDD$$anonfun$take$1$$anonfun$29.apply(RDD.scala:1354)\n\tat org.apache.spark.rdd.RDD$$anonfun$take$1$$anonfun$29.apply(RDD.scala:1354)\n\tat org.apache.spark.SparkContext$$anonfun$runJob$5.apply(SparkContext.scala:2062)\n\tat org.apache.spark.SparkContext$$anonfun$runJob$5.apply(SparkContext.scala:2062)\n\tat org.apache.spark.scheduler.ResultTask.runTask(ResultTask.scala:87)\n\tat org.apache.spark.scheduler.Task.run(Task.scala:108)\n\tat org.apache.spark.executor.Executor$TaskRunner.run(Executor.scala:335)\n\tat java.util.concurrent.ThreadPoolExecutor.runWorker(ThreadPoolExecutor.java:1142)\n\tat java.util.concurrent.ThreadPoolExecutor$Worker.run(ThreadPoolExecutor.java:617)\n\t... 1 more\nCaused by: org.apache.spark.SparkException: Unseen label: 1.  To handle unseen labels, set Param handleInvalid to keep.\n\tat org.apache.spark.ml.feature.StringIndexerModel$$anonfun$5.apply(StringIndexer.scala:222)\n\tat org.apache.spark.ml.feature.StringIndexerModel$$anonfun$5.apply(StringIndexer.scala:208)\n\t... 29 more\n",
     "output_type": "error",
     "traceback": [
      "\u001b[0;31m---------------------------------------------------------------------------\u001b[0m",
      "\u001b[0;31mPy4JJavaError\u001b[0m                             Traceback (most recent call last)",
      "\u001b[0;32m<ipython-input-111-991fd254d817>\u001b[0m in \u001b[0;36m<module>\u001b[0;34m()\u001b[0m\n\u001b[1;32m      6\u001b[0m                                labels=labelIndexer.labels)\n\u001b[1;32m      7\u001b[0m \u001b[0mpipeline\u001b[0m \u001b[0;34m=\u001b[0m \u001b[0mPipeline\u001b[0m\u001b[0;34m(\u001b[0m\u001b[0mstages\u001b[0m\u001b[0;34m=\u001b[0m\u001b[0;34m[\u001b[0m\u001b[0mlabelIndexer\u001b[0m\u001b[0;34m,\u001b[0m \u001b[0mfeatureIndexer\u001b[0m\u001b[0;34m,\u001b[0m \u001b[0mrf\u001b[0m\u001b[0;34m,\u001b[0m \u001b[0mlabelConverter\u001b[0m\u001b[0;34m]\u001b[0m\u001b[0;34m)\u001b[0m\u001b[0;34m\u001b[0m\u001b[0m\n\u001b[0;32m----> 8\u001b[0;31m \u001b[0mmodel\u001b[0m \u001b[0;34m=\u001b[0m \u001b[0mpipeline\u001b[0m\u001b[0;34m.\u001b[0m\u001b[0mfit\u001b[0m\u001b[0;34m(\u001b[0m\u001b[0mtrainingData\u001b[0m\u001b[0;34m)\u001b[0m\u001b[0;34m\u001b[0m\u001b[0m\n\u001b[0m",
      "\u001b[0;32m/Users/MacBot/anaconda/lib/python3.6/site-packages/pyspark/ml/base.py\u001b[0m in \u001b[0;36mfit\u001b[0;34m(self, dataset, params)\u001b[0m\n\u001b[1;32m     62\u001b[0m                 \u001b[0;32mreturn\u001b[0m \u001b[0mself\u001b[0m\u001b[0;34m.\u001b[0m\u001b[0mcopy\u001b[0m\u001b[0;34m(\u001b[0m\u001b[0mparams\u001b[0m\u001b[0;34m)\u001b[0m\u001b[0;34m.\u001b[0m\u001b[0m_fit\u001b[0m\u001b[0;34m(\u001b[0m\u001b[0mdataset\u001b[0m\u001b[0;34m)\u001b[0m\u001b[0;34m\u001b[0m\u001b[0m\n\u001b[1;32m     63\u001b[0m             \u001b[0;32melse\u001b[0m\u001b[0;34m:\u001b[0m\u001b[0;34m\u001b[0m\u001b[0m\n\u001b[0;32m---> 64\u001b[0;31m                 \u001b[0;32mreturn\u001b[0m \u001b[0mself\u001b[0m\u001b[0;34m.\u001b[0m\u001b[0m_fit\u001b[0m\u001b[0;34m(\u001b[0m\u001b[0mdataset\u001b[0m\u001b[0;34m)\u001b[0m\u001b[0;34m\u001b[0m\u001b[0m\n\u001b[0m\u001b[1;32m     65\u001b[0m         \u001b[0;32melse\u001b[0m\u001b[0;34m:\u001b[0m\u001b[0;34m\u001b[0m\u001b[0m\n\u001b[1;32m     66\u001b[0m             raise ValueError(\"Params must be either a param map or a list/tuple of param maps, \"\n",
      "\u001b[0;32m/Users/MacBot/anaconda/lib/python3.6/site-packages/pyspark/ml/pipeline.py\u001b[0m in \u001b[0;36m_fit\u001b[0;34m(self, dataset)\u001b[0m\n\u001b[1;32m    106\u001b[0m                     \u001b[0mdataset\u001b[0m \u001b[0;34m=\u001b[0m \u001b[0mstage\u001b[0m\u001b[0;34m.\u001b[0m\u001b[0mtransform\u001b[0m\u001b[0;34m(\u001b[0m\u001b[0mdataset\u001b[0m\u001b[0;34m)\u001b[0m\u001b[0;34m\u001b[0m\u001b[0m\n\u001b[1;32m    107\u001b[0m                 \u001b[0;32melse\u001b[0m\u001b[0;34m:\u001b[0m  \u001b[0;31m# must be an Estimator\u001b[0m\u001b[0;34m\u001b[0m\u001b[0m\n\u001b[0;32m--> 108\u001b[0;31m                     \u001b[0mmodel\u001b[0m \u001b[0;34m=\u001b[0m \u001b[0mstage\u001b[0m\u001b[0;34m.\u001b[0m\u001b[0mfit\u001b[0m\u001b[0;34m(\u001b[0m\u001b[0mdataset\u001b[0m\u001b[0;34m)\u001b[0m\u001b[0;34m\u001b[0m\u001b[0m\n\u001b[0m\u001b[1;32m    109\u001b[0m                     \u001b[0mtransformers\u001b[0m\u001b[0;34m.\u001b[0m\u001b[0mappend\u001b[0m\u001b[0;34m(\u001b[0m\u001b[0mmodel\u001b[0m\u001b[0;34m)\u001b[0m\u001b[0;34m\u001b[0m\u001b[0m\n\u001b[1;32m    110\u001b[0m                     \u001b[0;32mif\u001b[0m \u001b[0mi\u001b[0m \u001b[0;34m<\u001b[0m \u001b[0mindexOfLastEstimator\u001b[0m\u001b[0;34m:\u001b[0m\u001b[0;34m\u001b[0m\u001b[0m\n",
      "\u001b[0;32m/Users/MacBot/anaconda/lib/python3.6/site-packages/pyspark/ml/base.py\u001b[0m in \u001b[0;36mfit\u001b[0;34m(self, dataset, params)\u001b[0m\n\u001b[1;32m     62\u001b[0m                 \u001b[0;32mreturn\u001b[0m \u001b[0mself\u001b[0m\u001b[0;34m.\u001b[0m\u001b[0mcopy\u001b[0m\u001b[0;34m(\u001b[0m\u001b[0mparams\u001b[0m\u001b[0;34m)\u001b[0m\u001b[0;34m.\u001b[0m\u001b[0m_fit\u001b[0m\u001b[0;34m(\u001b[0m\u001b[0mdataset\u001b[0m\u001b[0;34m)\u001b[0m\u001b[0;34m\u001b[0m\u001b[0m\n\u001b[1;32m     63\u001b[0m             \u001b[0;32melse\u001b[0m\u001b[0;34m:\u001b[0m\u001b[0;34m\u001b[0m\u001b[0m\n\u001b[0;32m---> 64\u001b[0;31m                 \u001b[0;32mreturn\u001b[0m \u001b[0mself\u001b[0m\u001b[0;34m.\u001b[0m\u001b[0m_fit\u001b[0m\u001b[0;34m(\u001b[0m\u001b[0mdataset\u001b[0m\u001b[0;34m)\u001b[0m\u001b[0;34m\u001b[0m\u001b[0m\n\u001b[0m\u001b[1;32m     65\u001b[0m         \u001b[0;32melse\u001b[0m\u001b[0;34m:\u001b[0m\u001b[0;34m\u001b[0m\u001b[0m\n\u001b[1;32m     66\u001b[0m             raise ValueError(\"Params must be either a param map or a list/tuple of param maps, \"\n",
      "\u001b[0;32m/Users/MacBot/anaconda/lib/python3.6/site-packages/pyspark/ml/wrapper.py\u001b[0m in \u001b[0;36m_fit\u001b[0;34m(self, dataset)\u001b[0m\n\u001b[1;32m    263\u001b[0m \u001b[0;34m\u001b[0m\u001b[0m\n\u001b[1;32m    264\u001b[0m     \u001b[0;32mdef\u001b[0m \u001b[0m_fit\u001b[0m\u001b[0;34m(\u001b[0m\u001b[0mself\u001b[0m\u001b[0;34m,\u001b[0m \u001b[0mdataset\u001b[0m\u001b[0;34m)\u001b[0m\u001b[0;34m:\u001b[0m\u001b[0;34m\u001b[0m\u001b[0m\n\u001b[0;32m--> 265\u001b[0;31m         \u001b[0mjava_model\u001b[0m \u001b[0;34m=\u001b[0m \u001b[0mself\u001b[0m\u001b[0;34m.\u001b[0m\u001b[0m_fit_java\u001b[0m\u001b[0;34m(\u001b[0m\u001b[0mdataset\u001b[0m\u001b[0;34m)\u001b[0m\u001b[0;34m\u001b[0m\u001b[0m\n\u001b[0m\u001b[1;32m    266\u001b[0m         \u001b[0;32mreturn\u001b[0m \u001b[0mself\u001b[0m\u001b[0;34m.\u001b[0m\u001b[0m_create_model\u001b[0m\u001b[0;34m(\u001b[0m\u001b[0mjava_model\u001b[0m\u001b[0;34m)\u001b[0m\u001b[0;34m\u001b[0m\u001b[0m\n\u001b[1;32m    267\u001b[0m \u001b[0;34m\u001b[0m\u001b[0m\n",
      "\u001b[0;32m/Users/MacBot/anaconda/lib/python3.6/site-packages/pyspark/ml/wrapper.py\u001b[0m in \u001b[0;36m_fit_java\u001b[0;34m(self, dataset)\u001b[0m\n\u001b[1;32m    260\u001b[0m         \"\"\"\n\u001b[1;32m    261\u001b[0m         \u001b[0mself\u001b[0m\u001b[0;34m.\u001b[0m\u001b[0m_transfer_params_to_java\u001b[0m\u001b[0;34m(\u001b[0m\u001b[0;34m)\u001b[0m\u001b[0;34m\u001b[0m\u001b[0m\n\u001b[0;32m--> 262\u001b[0;31m         \u001b[0;32mreturn\u001b[0m \u001b[0mself\u001b[0m\u001b[0;34m.\u001b[0m\u001b[0m_java_obj\u001b[0m\u001b[0;34m.\u001b[0m\u001b[0mfit\u001b[0m\u001b[0;34m(\u001b[0m\u001b[0mdataset\u001b[0m\u001b[0;34m.\u001b[0m\u001b[0m_jdf\u001b[0m\u001b[0;34m)\u001b[0m\u001b[0;34m\u001b[0m\u001b[0m\n\u001b[0m\u001b[1;32m    263\u001b[0m \u001b[0;34m\u001b[0m\u001b[0m\n\u001b[1;32m    264\u001b[0m     \u001b[0;32mdef\u001b[0m \u001b[0m_fit\u001b[0m\u001b[0;34m(\u001b[0m\u001b[0mself\u001b[0m\u001b[0;34m,\u001b[0m \u001b[0mdataset\u001b[0m\u001b[0;34m)\u001b[0m\u001b[0;34m:\u001b[0m\u001b[0;34m\u001b[0m\u001b[0m\n",
      "\u001b[0;32m/Users/MacBot/anaconda/lib/python3.6/site-packages/py4j/java_gateway.py\u001b[0m in \u001b[0;36m__call__\u001b[0;34m(self, *args)\u001b[0m\n\u001b[1;32m   1131\u001b[0m         \u001b[0manswer\u001b[0m \u001b[0;34m=\u001b[0m \u001b[0mself\u001b[0m\u001b[0;34m.\u001b[0m\u001b[0mgateway_client\u001b[0m\u001b[0;34m.\u001b[0m\u001b[0msend_command\u001b[0m\u001b[0;34m(\u001b[0m\u001b[0mcommand\u001b[0m\u001b[0;34m)\u001b[0m\u001b[0;34m\u001b[0m\u001b[0m\n\u001b[1;32m   1132\u001b[0m         return_value = get_return_value(\n\u001b[0;32m-> 1133\u001b[0;31m             answer, self.gateway_client, self.target_id, self.name)\n\u001b[0m\u001b[1;32m   1134\u001b[0m \u001b[0;34m\u001b[0m\u001b[0m\n\u001b[1;32m   1135\u001b[0m         \u001b[0;32mfor\u001b[0m \u001b[0mtemp_arg\u001b[0m \u001b[0;32min\u001b[0m \u001b[0mtemp_args\u001b[0m\u001b[0;34m:\u001b[0m\u001b[0;34m\u001b[0m\u001b[0m\n",
      "\u001b[0;32m/Users/MacBot/anaconda/lib/python3.6/site-packages/pyspark/sql/utils.py\u001b[0m in \u001b[0;36mdeco\u001b[0;34m(*a, **kw)\u001b[0m\n\u001b[1;32m     61\u001b[0m     \u001b[0;32mdef\u001b[0m \u001b[0mdeco\u001b[0m\u001b[0;34m(\u001b[0m\u001b[0;34m*\u001b[0m\u001b[0ma\u001b[0m\u001b[0;34m,\u001b[0m \u001b[0;34m**\u001b[0m\u001b[0mkw\u001b[0m\u001b[0;34m)\u001b[0m\u001b[0;34m:\u001b[0m\u001b[0;34m\u001b[0m\u001b[0m\n\u001b[1;32m     62\u001b[0m         \u001b[0;32mtry\u001b[0m\u001b[0;34m:\u001b[0m\u001b[0;34m\u001b[0m\u001b[0m\n\u001b[0;32m---> 63\u001b[0;31m             \u001b[0;32mreturn\u001b[0m \u001b[0mf\u001b[0m\u001b[0;34m(\u001b[0m\u001b[0;34m*\u001b[0m\u001b[0ma\u001b[0m\u001b[0;34m,\u001b[0m \u001b[0;34m**\u001b[0m\u001b[0mkw\u001b[0m\u001b[0;34m)\u001b[0m\u001b[0;34m\u001b[0m\u001b[0m\n\u001b[0m\u001b[1;32m     64\u001b[0m         \u001b[0;32mexcept\u001b[0m \u001b[0mpy4j\u001b[0m\u001b[0;34m.\u001b[0m\u001b[0mprotocol\u001b[0m\u001b[0;34m.\u001b[0m\u001b[0mPy4JJavaError\u001b[0m \u001b[0;32mas\u001b[0m \u001b[0me\u001b[0m\u001b[0;34m:\u001b[0m\u001b[0;34m\u001b[0m\u001b[0m\n\u001b[1;32m     65\u001b[0m             \u001b[0ms\u001b[0m \u001b[0;34m=\u001b[0m \u001b[0me\u001b[0m\u001b[0;34m.\u001b[0m\u001b[0mjava_exception\u001b[0m\u001b[0;34m.\u001b[0m\u001b[0mtoString\u001b[0m\u001b[0;34m(\u001b[0m\u001b[0;34m)\u001b[0m\u001b[0;34m\u001b[0m\u001b[0m\n",
      "\u001b[0;32m/Users/MacBot/anaconda/lib/python3.6/site-packages/py4j/protocol.py\u001b[0m in \u001b[0;36mget_return_value\u001b[0;34m(answer, gateway_client, target_id, name)\u001b[0m\n\u001b[1;32m    317\u001b[0m                 raise Py4JJavaError(\n\u001b[1;32m    318\u001b[0m                     \u001b[0;34m\"An error occurred while calling {0}{1}{2}.\\n\"\u001b[0m\u001b[0;34m.\u001b[0m\u001b[0;34m\u001b[0m\u001b[0m\n\u001b[0;32m--> 319\u001b[0;31m                     format(target_id, \".\", name), value)\n\u001b[0m\u001b[1;32m    320\u001b[0m             \u001b[0;32melse\u001b[0m\u001b[0;34m:\u001b[0m\u001b[0;34m\u001b[0m\u001b[0m\n\u001b[1;32m    321\u001b[0m                 raise Py4JError(\n",
      "\u001b[0;31mPy4JJavaError\u001b[0m: An error occurred while calling o5006.fit.\n: org.apache.spark.SparkException: Job aborted due to stage failure: Task 20 in stage 2169.0 failed 1 times, most recent failure: Lost task 20.0 in stage 2169.0 (TID 11955, localhost, executor driver): org.apache.spark.SparkException: Failed to execute user defined function($anonfun$5: (string) => double)\n\tat org.apache.spark.sql.catalyst.expressions.GeneratedClass$GeneratedIterator.processNext(Unknown Source)\n\tat org.apache.spark.sql.execution.BufferedRowIterator.hasNext(BufferedRowIterator.java:43)\n\tat org.apache.spark.sql.execution.WholeStageCodegenExec$$anonfun$8$$anon$1.hasNext(WholeStageCodegenExec.scala:395)\n\tat scala.collection.Iterator$$anon$11.hasNext(Iterator.scala:408)\n\tat scala.collection.Iterator$$anon$11.hasNext(Iterator.scala:408)\n\tat scala.collection.Iterator$$anon$11.hasNext(Iterator.scala:408)\n\tat scala.collection.Iterator$$anon$11.hasNext(Iterator.scala:408)\n\tat scala.collection.Iterator$$anon$10.hasNext(Iterator.scala:389)\n\tat scala.collection.Iterator$class.foreach(Iterator.scala:893)\n\tat scala.collection.AbstractIterator.foreach(Iterator.scala:1336)\n\tat scala.collection.generic.Growable$class.$plus$plus$eq(Growable.scala:59)\n\tat scala.collection.mutable.ArrayBuffer.$plus$plus$eq(ArrayBuffer.scala:104)\n\tat scala.collection.mutable.ArrayBuffer.$plus$plus$eq(ArrayBuffer.scala:48)\n\tat scala.collection.TraversableOnce$class.to(TraversableOnce.scala:310)\n\tat scala.collection.AbstractIterator.to(Iterator.scala:1336)\n\tat scala.collection.TraversableOnce$class.toBuffer(TraversableOnce.scala:302)\n\tat scala.collection.AbstractIterator.toBuffer(Iterator.scala:1336)\n\tat scala.collection.TraversableOnce$class.toArray(TraversableOnce.scala:289)\n\tat scala.collection.AbstractIterator.toArray(Iterator.scala:1336)\n\tat org.apache.spark.rdd.RDD$$anonfun$take$1$$anonfun$29.apply(RDD.scala:1354)\n\tat org.apache.spark.rdd.RDD$$anonfun$take$1$$anonfun$29.apply(RDD.scala:1354)\n\tat org.apache.spark.SparkContext$$anonfun$runJob$5.apply(SparkContext.scala:2062)\n\tat org.apache.spark.SparkContext$$anonfun$runJob$5.apply(SparkContext.scala:2062)\n\tat org.apache.spark.scheduler.ResultTask.runTask(ResultTask.scala:87)\n\tat org.apache.spark.scheduler.Task.run(Task.scala:108)\n\tat org.apache.spark.executor.Executor$TaskRunner.run(Executor.scala:335)\n\tat java.util.concurrent.ThreadPoolExecutor.runWorker(ThreadPoolExecutor.java:1142)\n\tat java.util.concurrent.ThreadPoolExecutor$Worker.run(ThreadPoolExecutor.java:617)\n\tat java.lang.Thread.run(Thread.java:745)\nCaused by: org.apache.spark.SparkException: Unseen label: 1.  To handle unseen labels, set Param handleInvalid to keep.\n\tat org.apache.spark.ml.feature.StringIndexerModel$$anonfun$5.apply(StringIndexer.scala:222)\n\tat org.apache.spark.ml.feature.StringIndexerModel$$anonfun$5.apply(StringIndexer.scala:208)\n\t... 29 more\n\nDriver stacktrace:\n\tat org.apache.spark.scheduler.DAGScheduler.org$apache$spark$scheduler$DAGScheduler$$failJobAndIndependentStages(DAGScheduler.scala:1499)\n\tat org.apache.spark.scheduler.DAGScheduler$$anonfun$abortStage$1.apply(DAGScheduler.scala:1487)\n\tat org.apache.spark.scheduler.DAGScheduler$$anonfun$abortStage$1.apply(DAGScheduler.scala:1486)\n\tat scala.collection.mutable.ResizableArray$class.foreach(ResizableArray.scala:59)\n\tat scala.collection.mutable.ArrayBuffer.foreach(ArrayBuffer.scala:48)\n\tat org.apache.spark.scheduler.DAGScheduler.abortStage(DAGScheduler.scala:1486)\n\tat org.apache.spark.scheduler.DAGScheduler$$anonfun$handleTaskSetFailed$1.apply(DAGScheduler.scala:814)\n\tat org.apache.spark.scheduler.DAGScheduler$$anonfun$handleTaskSetFailed$1.apply(DAGScheduler.scala:814)\n\tat scala.Option.foreach(Option.scala:257)\n\tat org.apache.spark.scheduler.DAGScheduler.handleTaskSetFailed(DAGScheduler.scala:814)\n\tat org.apache.spark.scheduler.DAGSchedulerEventProcessLoop.doOnReceive(DAGScheduler.scala:1714)\n\tat org.apache.spark.scheduler.DAGSchedulerEventProcessLoop.onReceive(DAGScheduler.scala:1669)\n\tat org.apache.spark.scheduler.DAGSchedulerEventProcessLoop.onReceive(DAGScheduler.scala:1658)\n\tat org.apache.spark.util.EventLoop$$anon$1.run(EventLoop.scala:48)\n\tat org.apache.spark.scheduler.DAGScheduler.runJob(DAGScheduler.scala:630)\n\tat org.apache.spark.SparkContext.runJob(SparkContext.scala:2022)\n\tat org.apache.spark.SparkContext.runJob(SparkContext.scala:2043)\n\tat org.apache.spark.SparkContext.runJob(SparkContext.scala:2062)\n\tat org.apache.spark.rdd.RDD$$anonfun$take$1.apply(RDD.scala:1354)\n\tat org.apache.spark.rdd.RDDOperationScope$.withScope(RDDOperationScope.scala:151)\n\tat org.apache.spark.rdd.RDDOperationScope$.withScope(RDDOperationScope.scala:112)\n\tat org.apache.spark.rdd.RDD.withScope(RDD.scala:362)\n\tat org.apache.spark.rdd.RDD.take(RDD.scala:1327)\n\tat org.apache.spark.ml.tree.impl.DecisionTreeMetadata$.buildMetadata(DecisionTreeMetadata.scala:112)\n\tat org.apache.spark.ml.tree.impl.RandomForest$.run(RandomForest.scala:105)\n\tat org.apache.spark.ml.classification.RandomForestClassifier.train(RandomForestClassifier.scala:139)\n\tat org.apache.spark.ml.classification.RandomForestClassifier.train(RandomForestClassifier.scala:45)\n\tat org.apache.spark.ml.Predictor.fit(Predictor.scala:118)\n\tat sun.reflect.NativeMethodAccessorImpl.invoke0(Native Method)\n\tat sun.reflect.NativeMethodAccessorImpl.invoke(NativeMethodAccessorImpl.java:62)\n\tat sun.reflect.DelegatingMethodAccessorImpl.invoke(DelegatingMethodAccessorImpl.java:43)\n\tat java.lang.reflect.Method.invoke(Method.java:498)\n\tat py4j.reflection.MethodInvoker.invoke(MethodInvoker.java:244)\n\tat py4j.reflection.ReflectionEngine.invoke(ReflectionEngine.java:357)\n\tat py4j.Gateway.invoke(Gateway.java:280)\n\tat py4j.commands.AbstractCommand.invokeMethod(AbstractCommand.java:132)\n\tat py4j.commands.CallCommand.execute(CallCommand.java:79)\n\tat py4j.GatewayConnection.run(GatewayConnection.java:214)\n\tat java.lang.Thread.run(Thread.java:745)\nCaused by: org.apache.spark.SparkException: Failed to execute user defined function($anonfun$5: (string) => double)\n\tat org.apache.spark.sql.catalyst.expressions.GeneratedClass$GeneratedIterator.processNext(Unknown Source)\n\tat org.apache.spark.sql.execution.BufferedRowIterator.hasNext(BufferedRowIterator.java:43)\n\tat org.apache.spark.sql.execution.WholeStageCodegenExec$$anonfun$8$$anon$1.hasNext(WholeStageCodegenExec.scala:395)\n\tat scala.collection.Iterator$$anon$11.hasNext(Iterator.scala:408)\n\tat scala.collection.Iterator$$anon$11.hasNext(Iterator.scala:408)\n\tat scala.collection.Iterator$$anon$11.hasNext(Iterator.scala:408)\n\tat scala.collection.Iterator$$anon$11.hasNext(Iterator.scala:408)\n\tat scala.collection.Iterator$$anon$10.hasNext(Iterator.scala:389)\n\tat scala.collection.Iterator$class.foreach(Iterator.scala:893)\n\tat scala.collection.AbstractIterator.foreach(Iterator.scala:1336)\n\tat scala.collection.generic.Growable$class.$plus$plus$eq(Growable.scala:59)\n\tat scala.collection.mutable.ArrayBuffer.$plus$plus$eq(ArrayBuffer.scala:104)\n\tat scala.collection.mutable.ArrayBuffer.$plus$plus$eq(ArrayBuffer.scala:48)\n\tat scala.collection.TraversableOnce$class.to(TraversableOnce.scala:310)\n\tat scala.collection.AbstractIterator.to(Iterator.scala:1336)\n\tat scala.collection.TraversableOnce$class.toBuffer(TraversableOnce.scala:302)\n\tat scala.collection.AbstractIterator.toBuffer(Iterator.scala:1336)\n\tat scala.collection.TraversableOnce$class.toArray(TraversableOnce.scala:289)\n\tat scala.collection.AbstractIterator.toArray(Iterator.scala:1336)\n\tat org.apache.spark.rdd.RDD$$anonfun$take$1$$anonfun$29.apply(RDD.scala:1354)\n\tat org.apache.spark.rdd.RDD$$anonfun$take$1$$anonfun$29.apply(RDD.scala:1354)\n\tat org.apache.spark.SparkContext$$anonfun$runJob$5.apply(SparkContext.scala:2062)\n\tat org.apache.spark.SparkContext$$anonfun$runJob$5.apply(SparkContext.scala:2062)\n\tat org.apache.spark.scheduler.ResultTask.runTask(ResultTask.scala:87)\n\tat org.apache.spark.scheduler.Task.run(Task.scala:108)\n\tat org.apache.spark.executor.Executor$TaskRunner.run(Executor.scala:335)\n\tat java.util.concurrent.ThreadPoolExecutor.runWorker(ThreadPoolExecutor.java:1142)\n\tat java.util.concurrent.ThreadPoolExecutor$Worker.run(ThreadPoolExecutor.java:617)\n\t... 1 more\nCaused by: org.apache.spark.SparkException: Unseen label: 1.  To handle unseen labels, set Param handleInvalid to keep.\n\tat org.apache.spark.ml.feature.StringIndexerModel$$anonfun$5.apply(StringIndexer.scala:222)\n\tat org.apache.spark.ml.feature.StringIndexerModel$$anonfun$5.apply(StringIndexer.scala:208)\n\t... 29 more\n"
     ]
    }
   ],
   "source": [
    "labelIndexer1 = StringIndexer(inputCol=\"label\", outputCol=\"indexedLabel\").fit(result)\n",
    "featureIndexer1 =\\\n",
    "    VectorIndexer(inputCol=\"features\", outputCol=\"indexedFeatures\", maxCategories=4).fit(result)\n",
    "(trainingData, testData) = result.randomSplit([0.7, 0.3])\n",
    "rf = RandomForestClassifier(labelCol=\"indexedLabel\", featuresCol=\"indexedFeatures\", numTrees=10)\n",
    "labelConverter = IndexToString(inputCol=\"prediction\", outputCol=\"predictedLabel\",\n",
    "                               labels=labelIndexer.labels)\n",
    "pipeline = Pipeline(stages=[labelIndexer, featureIndexer, rf, labelConverter])\n",
    "model = pipeline.fit(trainingData)"
   ]
  },
  {
   "cell_type": "code",
   "execution_count": 50,
   "metadata": {},
   "outputs": [
    {
     "data": {
      "text/plain": [
       "[Row(did=0, features=SparseVector(12, {0: 1.0, 2: 1.0, 3: 1.0, 4: 1.0, 8: 1.0, 9: 1.0, 10: 1.0, 11: 1.0}), label=1),\n",
       " Row(did=1, features=SparseVector(12, {0: 1.0, 1: 1.0, 2: 2.0, 3: 1.0, 4: 2.0, 9: 1.0, 10: 1.0, 11: 1.0}), label=0),\n",
       " Row(did=2, features=SparseVector(12, {0: 2.0, 1: 2.0, 2: 2.0, 4: 3.0, 5: 1.0, 6: 1.0, 7: 1.0, 9: 1.0, 10: 1.0, 11: 1.0}), label=1)]"
      ]
     },
     "execution_count": 50,
     "metadata": {},
     "output_type": "execute_result"
    }
   ],
   "source": [
    "\n"
   ]
  },
  {
   "cell_type": "code",
   "execution_count": 51,
   "metadata": {},
   "outputs": [
    {
     "name": "stdout",
     "output_type": "stream",
     "text": [
      "+-----+--------------------+\n",
      "|label|            features|\n",
      "+-----+--------------------+\n",
      "|  0.0|(692,[127,128,129...|\n",
      "|  1.0|(692,[158,159,160...|\n",
      "|  1.0|(692,[124,125,126...|\n",
      "|  1.0|(692,[152,153,154...|\n",
      "|  1.0|(692,[151,152,153...|\n",
      "|  0.0|(692,[129,130,131...|\n",
      "|  1.0|(692,[158,159,160...|\n",
      "|  1.0|(692,[99,100,101,...|\n",
      "|  0.0|(692,[154,155,156...|\n",
      "|  0.0|(692,[127,128,129...|\n",
      "|  1.0|(692,[154,155,156...|\n",
      "|  0.0|(692,[153,154,155...|\n",
      "|  0.0|(692,[151,152,153...|\n",
      "|  1.0|(692,[129,130,131...|\n",
      "|  0.0|(692,[154,155,156...|\n",
      "|  1.0|(692,[150,151,152...|\n",
      "|  0.0|(692,[124,125,126...|\n",
      "|  0.0|(692,[152,153,154...|\n",
      "|  1.0|(692,[97,98,99,12...|\n",
      "|  1.0|(692,[124,125,126...|\n",
      "+-----+--------------------+\n",
      "only showing top 20 rows\n",
      "\n",
      "+-----+--------------------+\n",
      "|label|            features|\n",
      "+-----+--------------------+\n",
      "|  0.0|(692,[127,128,129...|\n",
      "|  1.0|(692,[158,159,160...|\n",
      "|  1.0|(692,[124,125,126...|\n",
      "|  1.0|(692,[152,153,154...|\n",
      "|  1.0|(692,[151,152,153...|\n",
      "|  0.0|(692,[129,130,131...|\n",
      "|  1.0|(692,[158,159,160...|\n",
      "|  1.0|(692,[99,100,101,...|\n",
      "|  0.0|(692,[154,155,156...|\n",
      "|  0.0|(692,[127,128,129...|\n",
      "|  1.0|(692,[154,155,156...|\n",
      "|  0.0|(692,[153,154,155...|\n",
      "|  0.0|(692,[151,152,153...|\n",
      "|  1.0|(692,[129,130,131...|\n",
      "|  0.0|(692,[154,155,156...|\n",
      "|  1.0|(692,[150,151,152...|\n",
      "|  0.0|(692,[124,125,126...|\n",
      "|  0.0|(692,[152,153,154...|\n",
      "|  1.0|(692,[97,98,99,12...|\n",
      "|  1.0|(692,[124,125,126...|\n",
      "+-----+--------------------+\n",
      "only showing top 20 rows\n",
      "\n"
     ]
    }
   ],
   "source": [
    "data = sqlc.read.format(\"libsvm\").load(\"data/sample_libsvm_data.txt\")\n",
    "data.show()\n",
    "labelIndexer = StringIndexer(inputCol=\"label\", outputCol=\"indexedLabel\").fit(data)\n",
    "featureIndexer =\\\n",
    "    VectorIndexer(inputCol=\"features\", outputCol=\"indexedFeatures\", maxCategories=4).fit(data)\n",
    "data.show()\n"
   ]
  },
  {
   "cell_type": "code",
   "execution_count": 40,
   "metadata": {
    "collapsed": true
   },
   "outputs": [],
   "source": []
  },
  {
   "cell_type": "code",
   "execution_count": 41,
   "metadata": {},
   "outputs": [
    {
     "name": "stdout",
     "output_type": "stream",
     "text": [
      "+-----+--------------------+\n",
      "|label|            features|\n",
      "+-----+--------------------+\n",
      "|  0.0|(692,[127,128,129...|\n",
      "|  1.0|(692,[158,159,160...|\n",
      "|  1.0|(692,[124,125,126...|\n",
      "|  1.0|(692,[152,153,154...|\n",
      "|  1.0|(692,[151,152,153...|\n",
      "|  0.0|(692,[129,130,131...|\n",
      "|  1.0|(692,[158,159,160...|\n",
      "|  1.0|(692,[99,100,101,...|\n",
      "|  0.0|(692,[154,155,156...|\n",
      "|  0.0|(692,[127,128,129...|\n",
      "|  1.0|(692,[154,155,156...|\n",
      "|  0.0|(692,[153,154,155...|\n",
      "|  0.0|(692,[151,152,153...|\n",
      "|  1.0|(692,[129,130,131...|\n",
      "|  0.0|(692,[154,155,156...|\n",
      "|  1.0|(692,[150,151,152...|\n",
      "|  0.0|(692,[124,125,126...|\n",
      "|  0.0|(692,[152,153,154...|\n",
      "|  1.0|(692,[97,98,99,12...|\n",
      "|  1.0|(692,[124,125,126...|\n",
      "+-----+--------------------+\n",
      "only showing top 20 rows\n",
      "\n"
     ]
    }
   ],
   "source": []
  },
  {
   "cell_type": "code",
   "execution_count": 12,
   "metadata": {},
   "outputs": [
    {
     "name": "stdout",
     "output_type": "stream",
     "text": [
      "DvdM5Zpx96qKuN3cAt1ygs://uga-dsp/project2/data/bytes/5QpgRV2cqU9wvjBist1a.asm,gs://uga-dsp/project2/data/bytes/2F6ZfVCQRi3vrwcj4zxL.asm,gs://uga-dsp/project2/data/bytes/1KjZ4An78sOytkzgRL0E.asm,gs://uga-dsp/project2/data/bytes/JnHGRI2v5NuB9lpsEOCS.asm,gs://uga-dsp/project2/data/bytes/fvTz3rSPVQJGelO49Rn0.asm,gs://uga-dsp/project2/data/bytes/Akbqr8c0E31QoOTwKefL.asm,gs://uga-dsp/project2/data/bytes/7wFaWUhcDgonLtQdqpy2.asm,gs://uga-dsp/project2/data/bytes/C1IklXQF4DJiB8stvR39.asm,gs://uga-dsp/project2/data/bytes/fOoBREwIcNmD8u6Kts75.asm,gs://uga-dsp/project2/data/bytes/8jrxyaQiGJb5qcsOmMAv.asm,gs://uga-dsp/project2/data/bytes/CQwNADZxFXBh9fUlOuao.asm,gs://uga-dsp/project2/data/bytes/FEA6d5CzUyqoZPS8tfQk.asm,gs://uga-dsp/project2/data/bytes/4xPwVZd8CpJEAUIebmvB.asm,gs://uga-dsp/project2/data/bytes/BmMDeyRaJzQ39WPK2VIs.asm,gs://uga-dsp/project2/data/bytes/fzgZyTMiq8lmuKkhdS27.asm,gs://uga-dsp/project2/data/bytes/EzxVk2DCYKWZpng39AoS.asm,gs://uga-dsp/project2/data/bytes/e5fn4GutJO601CgUSZF8.asm,gs://uga-dsp/project2/data/bytes/JkcvVWjUdD0OTuSmzA4q.asm,gs://uga-dsp/project2/data/bytes/dAyK3ko0fD15PhLSsxc8.asm,gs://uga-dsp/project2/data/bytes/0Rgetc1wAfxlzHTGBOa7.asm,gs://uga-dsp/project2/data/bytes/HC1UgrS8istEpO0A7avX.asm,gs://uga-dsp/project2/data/bytes/4Bsbdx8uXvtMOqHnyYfi.asm,gs://uga-dsp/project2/data/bytes/42Nj0zM5EGmvLJkCpuOx.asm,gs://uga-dsp/project2/data/bytes/3SdTQDpt7X4C0NkgamMA.asm,gs://uga-dsp/project2/data/bytes/1iTgmuEOkVaUnhClz2JL.asm,gs://uga-dsp/project2/data/bytes/dFTCW2EBnLVs3OK5ceHj.asm,gs://uga-dsp/project2/data/bytes/K3BiLDx5eFqoG2tETujV.asm,gs://uga-dsp/project2/data/bytes/9lHyVeXERtIaZcL4kWqM.asm,gs://uga-dsp/project2/data/bytes/CoQn9bfkvMUjWwVgPAFL.asm,gs://uga-dsp/project2/data/bytes/I2QaRs1y4TmZVLwWCPv7.asm,gs://uga-dsp/project2/data/bytes/ebT5zBZIQDVuxP8HRFyc.asm,gs://uga-dsp/project2/data/bytes/CGTaYbKUWz1SEQqH289o.asm,gs://uga-dsp/project2/data/bytes/hmjcZH7rQ4qkLlbDzePy.asm,gs://uga-dsp/project2/data/bytes/4fYojiJ3XwcILTA6KlWu.asm,gs://uga-dsp/project2/data/bytes/8uLBi1sUnKQoVyYCW0SP.asm,gs://uga-dsp/project2/data/bytes/AYVovj5Hey21XzC8U0tJ.asm,gs://uga-dsp/project2/data/bytes/iJpgS9hMDuFrCTItyokl.asm,gs://uga-dsp/project2/data/bytes/bZ4i2FL0OjfSryx3BMdg.asm,gs://uga-dsp/project2/data/bytes/DwyNaEk0S4769ocfPOzn.asm,gs://uga-dsp/project2/data/bytes/EmiXnt9e4fpSTUDvcdr3.asm,gs://uga-dsp/project2/data/bytes/FrRtsd6n5a4eHZlOTUxJ.asm,gs://uga-dsp/project2/data/bytes/hXkaQsWRA4yLtomnPTUx.asm,gs://uga-dsp/project2/data/bytes/6SloMR3muLUqbWpYKr9O.asm,gs://uga-dsp/project2/data/bytes/8LyrjEcsXh1MGd4wg3eS.asm,gs://uga-dsp/project2/data/bytes/FW5OMytiahRcIBfLJD9X.asm,gs://uga-dsp/project2/data/bytes/6T907yrYp4XJsGPk82Kh.asm,gs://uga-dsp/project2/data/bytes/fjTHiqwEYGch15B3NLtx.asm,gs://uga-dsp/project2/data/bytes/JLGnIyg7olZ9MpdN8wmj.asm,gs://uga-dsp/project2/data/bytes/4wrp1jESmXKUAvH5s2aR.asm,gs://uga-dsp/project2/data/bytes/3Mlb2WXYpOiJLeEv60nr.asm,gs://uga-dsp/project2/data/bytes/bqdDVk28tEPlRyvALWuw.asm,gs://uga-dsp/project2/data/bytes/BOeTymAhdfoYM23aj5Xr.asm,gs://uga-dsp/project2/data/bytes/bWDzeRVOdvC0L6F34EAB.asm,gs://uga-dsp/project2/data/bytes/iRMsohvN31qUCQDFL7we.asm,gs://uga-dsp/project2/data/bytes/2kS0UbYlHrFLP1EGwM3C.asm,gs://uga-dsp/project2/data/bytes/GK590Jem3FA1kspq7PoO.asm,gs://uga-dsp/project2/data/bytes/gDKZbIHe514u9pcEkFsV.asm,gs://uga-dsp/project2/data/bytes/0sYDNzwVMaWE2TIZeA81.asm,gs://uga-dsp/project2/data/bytes/CwWxDrGOcAg49R03v8Iz.asm,gs://uga-dsp/project2/data/bytes/JP7BMuOe5I0yYmSCbTNd.asm,gs://uga-dsp/project2/data/bytes/E4r0jbMGeABRC92Ucz6l.asm,gs://uga-dsp/project2/data/bytes/1otbAhISV0yQ7vF6zndx.asm,gs://uga-dsp/project2/data/bytes/3WZjh7BUpwRVDTkmtISi.asm,gs://uga-dsp/project2/data/bytes/CrNOE3bTHv7JXhBipFcM.asm,gs://uga-dsp/project2/data/bytes/egd4hlyariNILVAQuPJ6.asm,gs://uga-dsp/project2/data/bytes/9DauIvUMYJ15so3beSn0.asm,gs://uga-dsp/project2/data/bytes/gbkKyeR2uhSO5GzsIr0T.asm,gs://uga-dsp/project2/data/bytes/1DmFGLjAlhPwn4yEVteq.asm,gs://uga-dsp/project2/data/bytes/iCdKNhpAybeBvY3lowZq.asm,gs://uga-dsp/project2/data/bytes/bNPGwyZxT6WzV32sekY7.asm,gs://uga-dsp/project2/data/bytes/9RaVK3pIfnECFNAkvST6.asm,gs://uga-dsp/project2/data/bytes/4Nwns693pXjobKT1HtFr.asm,gs://uga-dsp/project2/data/bytes/Ct97bQUeGS5fRmaKANMZ.asm,gs://uga-dsp/project2/data/bytes/CLw2EfPFqBAkelvu5oDR.asm,gs://uga-dsp/project2/data/bytes/JEULek2arB86vPXS0lDW.asm,gs://uga-dsp/project2/data/bytes/Gx3dKXvNTwWPFM8oZisj.asm,gs://uga-dsp/project2/data/bytes/HmyrPzn4LNuxQetUMlfK.asm,gs://uga-dsp/project2/data/bytes/CdBnaqstfPMA9NXroOJh.asm,gs://uga-dsp/project2/data/bytes/iWsF18Ct4BScbnKHTXEO.asm,gs://uga-dsp/project2/data/bytes/e7FhuKwUW8LfMA2bxEDl.asm,gs://uga-dsp/project2/data/bytes/4unYl0BDo2NvIZGiEJWj.asm,gs://uga-dsp/project2/data/bytes/6mvWVJXheHiotAd9CZrx.asm,gs://uga-dsp/project2/data/bytes/4XvpUxtrIGC8Y2LPAmhS.asm,gs://uga-dsp/project2/data/bytes/csiyQIjSzhrTfGtYKlq5.asm,gs://uga-dsp/project2/data/bytes/i5qAV936TsMzYyWbw0HX.asm,gs://uga-dsp/project2/data/bytes/GyRxVEwf1DFl5jJrsZaM.asm,gs://uga-dsp/project2/data/bytes/3m8kb5ILPrHcMC1o9Nht.asm,gs://uga-dsp/project2/data/bytes/1rbXZBI9R3EleQDH74Sk.asm,gs://uga-dsp/project2/data/bytes/IkRyF3nC95E8dbBwjO60.asm,gs://uga-dsp/project2/data/bytes/9AeVRcUy4nGNCjL0WdKt.asm,gs://uga-dsp/project2/data/bytes/dIUsC2eFoGQ05ifjtn3R.asm,gs://uga-dsp/project2/data/bytes/Dtb3d4G27yXMaqiLv19O.asm,gs://uga-dsp/project2/data/bytes/IR9gtO0weU7DWVqhJryu.asm,gs://uga-dsp/project2/data/bytes/5fMDqaRKQBd3AhVPFIkZ.asm,gs://uga-dsp/project2/data/bytes/DWnB8cNMprEmkXTtHu9O.asm,gs://uga-dsp/project2/data/bytes/J1LCS4Foa2jbAOYGWQhz.asm,gs://uga-dsp/project2/data/bytes/E4SvkGO5CuB8LehadFo6.asm,gs://uga-dsp/project2/data/bytes/aeoETp7ktY2qAxGcBvfm.asm,gs://uga-dsp/project2/data/bytes/7ViTtBsPRgZQx1mqfHYO.asm,gs://uga-dsp/project2/data/bytes/5aVfOX3lym7ZECUehLD8.asm,gs://uga-dsp/project2/data/bytes/em9MTZSzEYVA3sLFnoHb.asm,gs://uga-dsp/project2/data/bytes/hwekzyp1YmGI3joFdLaP.asm,gs://uga-dsp/project2/data/bytes/FpPsN0r6M1EKtT4GehSQ.asm,gs://uga-dsp/project2/data/bytes/if0JHIlxvu42A5aDjh6b.asm,gs://uga-dsp/project2/data/bytes/BJnLTxsZSUg0GO7m1pQu.asm,gs://uga-dsp/project2/data/bytes/EXOGAWFx2bptklNmwLui.asm,gs://uga-dsp/project2/data/bytes/guSymr1IhTE4kFXAJGUj.asm,gs://uga-dsp/project2/data/bytes/bR2QdKrOsGkLPgTFXi7t.asm,gs://uga-dsp/project2/data/bytes/Ko1FSexsij4QuL0kOwav.asm,gs://uga-dsp/project2/data/bytes/dN3DR9xeJwyLlHFo5sju.asm,gs://uga-dsp/project2/data/bytes/4n5LKPoBHSyfNz6iWJeQ.asm,gs://uga-dsp/project2/data/bytes/Cqp8ldvL5XeDs2nwFIV6.asm,gs://uga-dsp/project2/data/bytes/acmyYPxFCBR5jGoUz1JM.asm,gs://uga-dsp/project2/data/bytes/2Z0Jfu1Pd8Mq7xXNSDct.asm,gs://uga-dsp/project2/data/bytes/F7jRh2B8TXWfnut3VdkA.asm,gs://uga-dsp/project2/data/bytes/5QAGYlNrgvSIeRxDH294.asm,gs://uga-dsp/project2/data/bytes/0eN9lyQfwmTVk7C2ZoYp.asm,gs://uga-dsp/project2/data/bytes/6TtolMFBK9Q8pEIXvbNc.asm,gs://uga-dsp/project2/data/bytes/BUGAnop1NDYTh0txE8d6.asm,gs://uga-dsp/project2/data/bytes/Cupb3XdgzL8ePYcWiF61.asm,gs://uga-dsp/project2/data/bytes/bkvWjpGYrfKLJUyON74g.asm,gs://uga-dsp/project2/data/bytes/1eJx34l8pcAFvMuOwrjB.asm,gs://uga-dsp/project2/data/bytes/1AhQif5kMPb24RnCmjrg.asm,gs://uga-dsp/project2/data/bytes/CSrozOlLw7i4FR5hbaEn.asm,gs://uga-dsp/project2/data/bytes/CPELmM8GYegcxRIQH4VA.asm,gs://uga-dsp/project2/data/bytes/cfOjhHAekrZLs7GiCm4W.asm,gs://uga-dsp/project2/data/bytes/FRyc0EQLMsbCmvYplidA.asm,gs://uga-dsp/project2/data/bytes/GCuDFKgQY2f1WH0B9VrE.asm,gs://uga-dsp/project2/data/bytes/6GKL8mpZ01qTy452uQsB.asm,gs://uga-dsp/project2/data/bytes/hl5wNixcfnCgEjp324sT.asm,gs://uga-dsp/project2/data/bytes/CUomVD70p3O8MFkwiTsd.asm,gs://uga-dsp/project2/data/bytes/kcRZAg3mPeJXW94y57dB.asm,gs://uga-dsp/project2/data/bytes/iySOCw3xsHdq8efXvL2t.asm,gs://uga-dsp/project2/data/bytes/e6xiQwfrT10IJGVYhnqD.asm,gs://uga-dsp/project2/data/bytes/602shC5njSE4yHNZ3QFM.asm,gs://uga-dsp/project2/data/bytes/I21HaMnK9rSlpNvoyUhg.asm,gs://uga-dsp/project2/data/bytes/hIDK0p1PAiJdL87CzG69.asm,gs://uga-dsp/project2/data/bytes/5ePdLKZoCV9nv0xIWcl4.asm,gs://uga-dsp/project2/data/bytes/HvLeFD0ARQ8bmGzcgaP6.asm,gs://uga-dsp/project2/data/bytes/1XgEYavLi9R0fV8BxHS5.asm,gs://uga-dsp/project2/data/bytes/kQEbWRHa04gOYDqM1NJ6.asm,gs://uga-dsp/project2/data/bytes/E03uAYZpmXyiCSB9Rrwj.asm,gs://uga-dsp/project2/data/bytes/dYy5PSntD1Tu8gZip2OE.asm,gs://uga-dsp/project2/data/bytes/Ckg3TiIXWEdF7msvqPu0.asm,gs://uga-dsp/project2/data/bytes/9cTL3ogMZzDpXuvswOCh.asm,gs://uga-dsp/project2/data/bytes/ae1M5piZAUrqnKc0TYdL.asm,gs://uga-dsp/project2/data/bytes/DAJWPTcYfBXlRz6oa8m7.asm,gs://uga-dsp/project2/data/bytes/dthU3qPVcC0GZmDAkvaR.asm,gs://uga-dsp/project2/data/bytes/ACTK9tVJunILfsYrwyFh.asm,gs://uga-dsp/project2/data/bytes/9ilHZxJ10UtOGsFQfDLg.asm,gs://uga-dsp/project2/data/bytes/hUswQjfHbyK0z15ZPvix.asm,gs://uga-dsp/project2/data/bytes/741Fqpl2jCHVTQdnMJmv.asm,gs://uga-dsp/project2/data/bytes/JTBs86W3jgorMUAclIvF.asm,gs://uga-dsp/project2/data/bytes/AkSm1VnbXzwCOrBlIPQZ.asm,gs://uga-dsp/project2/data/bytes/8vLGE0QNUBHaK3dt5hyl.asm,gs://uga-dsp/project2/data/bytes/BfZpbY7j0PIw3Orygsvq.asm,gs://uga-dsp/project2/data/bytes/2pdHWrsICS6VPXhfyEwl.asm,gs://uga-dsp/project2/data/bytes/arzldLNUhfoE3cjIZ12b.asm,gs://uga-dsp/project2/data/bytes/AJ3Bb6XsL925OtWelfUK.asm,gs://uga-dsp/project2/data/bytes/9BrzKQYJWfIU7C2whoPT.asm,gs://uga-dsp/project2/data/bytes/jhF9uVUQXrSw7bOt3Jkg.asm,gs://uga-dsp/project2/data/bytes/5DTUziJFLRQ17phBsOfE.asm,gs://uga-dsp/project2/data/bytes/2zN5EbfhwyZKgGodjiQu.asm,gs://uga-dsp/project2/data/bytes/EARfujkVMXW1wQO9gcGq.asm,gs://uga-dsp/project2/data/bytes/8QRIkDJS4bgy2nEvMhfa.asm,gs://uga-dsp/project2/data/bytes/fc9yYUTNz0qWibKtwR2j.asm,gs://uga-dsp/project2/data/bytes/jgHCV89D0RbYKqhxwXMi.asm,gs://uga-dsp/project2/data/bytes/eWEdpkD7rq68HxBKzXRf.asm,gs://uga-dsp/project2/data/bytes/1lWSeRJfOo0X9xqC67si.asm,gs://uga-dsp/project2/data/bytes/JBEzM0ZsuWaDt8bLypPv.asm,gs://uga-dsp/project2/data/bytes/dAN7DBVpI8Yh4snj0zoO.asm,gs://uga-dsp/project2/data/bytes/3ufcA2y6mtDTZFXiIoL8.asm,gs://uga-dsp/project2/data/bytes/fVOvT0rd2otz9GKZBX1F.asm,gs://uga-dsp/project2/data/bytes/BcuE9gIzJoh70dAlbVqw.asm,gs://uga-dsp/project2/data/bytes/7hpPtVH1OdzAD3YwsRy4.asm,gs://uga-dsp/project2/data/bytes/AHeigWkoIT8EqX3SmJcB.asm,gs://uga-dsp/project2/data/bytes/6v4lNabkVg0pe15nLshu.asm,gs://uga-dsp/project2/data/bytes/9DzWroGaVL8i1ZUKFb4c.asm,gs://uga-dsp/project2/data/bytes/E5wU3ZSjKbraJDdo9V1A.asm,gs://uga-dsp/project2/data/bytes/gPICkhiGxzB9fea5wUWM.asm,gs://uga-dsp/project2/data/bytes/HyB753uOmdz0NRFwqtDc.asm,gs://uga-dsp/project2/data/bytes/Br0EuJntIv8NGYQ4lhWb.asm,gs://uga-dsp/project2/data/bytes/e6woXQkDrjFVxIuOtdfh.asm,gs://uga-dsp/project2/data/bytes/E9AvZIuDkLT36dK8bPj4.asm,gs://uga-dsp/project2/data/bytes/DQqSM2enGHopTfCbg9Oc.asm,gs://uga-dsp/project2/data/bytes/eO2JXtZ5Tc8QBGmLDuFM.asm,gs://uga-dsp/project2/data/bytes/ISusbpVaCTQH4913cXA7.asm,gs://uga-dsp/project2/data/bytes/2i5N9Ftj3xoySflKzbAC.asm,gs://uga-dsp/project2/data/bytes/IcVuwSpZQzmUql3OxAva.asm,gs://uga-dsp/project2/data/bytes/kEthXiJl4QWv3sdPLguags://uga-dsp/project2/data/bytes/5v0foj1zRqNDHerwuiEg.asm,gs://uga-dsp/project2/data/bytes/3Oy1Wo7T0QxYILi8mlVg.asm,gs://uga-dsp/project2/data/bytes/0H63jydvIahOVqgx5Kfo.asm,gs://uga-dsp/project2/data/bytes/30ryX9b4elIiQcPaVx2W.asm,gs://uga-dsp/project2/data/bytes/BsOS4cVzLmTwG5WnFD3j.asm,gs://uga-dsp/project2/data/bytes/9Rwu8Es7InNiLjDkQSXd.asm,gs://uga-dsp/project2/data/bytes/7tDpNPXUISleJCkZQjr9.asm,gs://uga-dsp/project2/data/bytes/hlFo3fprkSOzDI7tc8Xq.asm,gs://uga-dsp/project2/data/bytes/954FXI3YU1fzE0idZ2QA.asm,gs://uga-dsp/project2/data/bytes/5TYzgLhQumXGqJe83bDn.asm,gs://uga-dsp/project2/data/bytes/fNAE3eU6Q4Gh5PtnCyMZ.asm,gs://uga-dsp/project2/data/bytes/0hZEqJ5eMVjU21HAG7Ii.asm,gs://uga-dsp/project2/data/bytes/DayOBihLJU5IkSjAgMmt.asm,gs://uga-dsp/project2/data/bytes/dLlojCpw5W0fmn2Sytzs.asm,gs://uga-dsp/project2/data/bytes/FNMk3wvliVuQLCe9OTDg.asm,gs://uga-dsp/project2/data/bytes/CdN4kZVMhB7IoxsRYu2y.asm,gs://uga-dsp/project2/data/bytes/CMpESZXjIKbqg7G5NhlV.asm,gs://uga-dsp/project2/data/bytes/ag50qP4ZzQo1eOVErXdp.asm,gs://uga-dsp/project2/data/bytes/1zP8Fh4ZWpELUrXB7Say.asm,gs://uga-dsp/project2/data/bytes/fljGbXsC06zBq8JZEv79.asm,gs://uga-dsp/project2/data/bytes/4ac5qdOrj96X8SglAGZL.asm,gs://uga-dsp/project2/data/bytes/3KWDrvPXBaAxgfGYsoN8.asm,gs://uga-dsp/project2/data/bytes/1hfkVAzp9jybt7YKEBrF.asm,gs://uga-dsp/project2/data/bytes/495fFS8xhenO7WqZX6uw.asm,gs://uga-dsp/project2/data/bytes/f7L3tzZJEbS52NTgoX9l.asm,gs://uga-dsp/project2/data/bytes/JvK5S9pskb2IaXBLHFz7.asm,gs://uga-dsp/project2/data/bytes/JcM4rjfw2mxPpT7sAveB.asm,gs://uga-dsp/project2/data/bytes/0XEmjdgVyY6hWfKulvCi.asm,gs://uga-dsp/project2/data/bytes/FxaARS1BKUQr47njqNO9.asm,gs://uga-dsp/project2/data/bytes/KiI6X4afklWuORnqBtz5.asm,gs://uga-dsp/project2/data/bytes/dcXMOYwoFIA59iRfGST6.asm,gs://uga-dsp/project2/data/bytes/jCXhwVO4ZdNqA9fHauDM.asm,gs://uga-dsp/project2/data/bytes/kei4pRX9ENQaKFsLcOU1.asm,gs://uga-dsp/project2/data/bytes/hpntqKQa1RVmfJGulB48.asm,gs://uga-dsp/project2/data/bytes/6bqeRU05pPKuGxQ7NEkO.asm,gs://uga-dsp/project2/data/bytes/7ykVQP3IzRgKpN95olma.asm,gs://uga-dsp/project2/data/bytes/eWR4wdHSfusGVlc8t2rg.asm,gs://uga-dsp/project2/data/bytes/hUV0BrHYvLbiPAZm5gf8.asm,gs://uga-dsp/project2/data/bytes/cqZbg3S1xV7vfUCudmks.asm,gs://uga-dsp/project2/data/bytes/hvFfuWd0XleJ9gUYkqZ4.asm,gs://uga-dsp/project2/data/bytes/87FTRrZLn1WozgdYvbxQ.asm,gs://uga-dsp/project2/data/bytes/HCItVjnoUXrq3OJcdNQk.asm,gs://uga-dsp/project2/data/bytes/59P7Kv8cMforuZUpVQnY.asm,gs://uga-dsp/project2/data/bytes/IrD2NqBzMT4euJQbXyv0.asm,gs://uga-dsp/project2/data/bytes/cuZrzSw2lXa4fq5FgmOj.asm,gs://uga-dsp/project2/data/bytes/iEVTh37Mo4NWlAaqCFkU.asm,gs://uga-dsp/project2/data/bytes/FDHjobQnCUSs6atXldJL.asm,gs://uga-dsp/project2/data/bytes/iBwVcOQ6hltTIaZp1SFk.asm,gs://uga-dsp/project2/data/bytes/4KZRhfsL2Fx6SXrzQDAt.asm,gs://uga-dsp/project2/data/bytes/8QzroqkiRDNMZIF69E7v.asm,gs://uga-dsp/project2/data/bytes/HWK4xCdIALnTeX5N2QVs.asm,gs://uga-dsp/project2/data/bytes/EiD3lRHWhCw4zY9SjXVI.asm,gs://uga-dsp/project2/data/bytes/etiXx5SkyzfIu0aqWJ7g.asm,gs://uga-dsp/project2/data/bytes/5tgsDzdZ9xMm8F47WNrv.asm,gs://uga-dsp/project2/data/bytes/k4fumEIZvtlKUbJ32c0H.asm,gs://uga-dsp/project2/data/bytes/GlBR2jy6Nx1HUEag5ISm.asm,gs://uga-dsp/project2/data/bytes/AeCXyFRcU2SsgvVTpMzi.asm,gs://uga-dsp/project2/data/bytes/aAndF7evKuSX94kxBWDo.asm,gs://uga-dsp/project2/data/bytes/2v1WwXSQbf3RrN4eTG8l.asm,gs://uga-dsp/project2/data/bytes/g7APWpl2oMm4fi5HBktN.asm,gs://uga-dsp/project2/data/bytes/bxdM9LUoRTGO4lvaAmPt.asm,gs://uga-dsp/project2/data/bytes/0KZFcsOYR4MdPJf6VvGS.asm,gs://uga-dsp/project2/data/bytes/hCB0gLKbrE2YTwa58Qk7.asm,gs://uga-dsp/project2/data/bytes/d9o6Is37la5eh0cQXtvY.asm,gs://uga-dsp/project2/data/bytes/HawOt4hzSPJyk6egrKfv.asm,gs://uga-dsp/project2/data/bytes/by4dzJBQ76juNaUC2w9W.asm,gs://uga-dsp/project2/data/bytes/eYwtJkx9a6dBz7ChZb43.asm,gs://uga-dsp/project2/data/bytes/IlMibEgeH8KjRyfdcU23.asm,gs://uga-dsp/project2/data/bytes/CvdWjIn9A4GkBbp1HF6T.asm,gs://uga-dsp/project2/data/bytes/a7Niv6pD5WPycnQK1TZ8.asm,gs://uga-dsp/project2/data/bytes/lS0IVqXeJrN6Dzi9Pap1.asm,gs://uga-dsp/project2/data/bytes/Hd2RSo5Vklez7KAWpaF1.asm,gs://uga-dsp/project2/data/bytes/IWryLwtbuK13OsG04Tzl.asm,gs://uga-dsp/project2/data/bytes/ikWOqdCK57rcjxP4SJZD.asm,gs://uga-dsp/project2/data/bytes/aZVQvsH0lKUqdEn7oFcf.asm,gs://uga-dsp/project2/data/bytes/bzcsn9Q08SDWutfxMhYm.asm,gs://uga-dsp/project2/data/bytes/65PrHFzw3RaIg1Qhcfik.asm,gs://uga-dsp/project2/data/bytes/Ftqd7rZi148x0zIJMQPY.asm,gs://uga-dsp/project2/data/bytes/GkIQt6xha5z0TcEeJRSf.asm,gs://uga-dsp/project2/data/bytes/3YCBS2N5ypQ94Um1Mhdt.asm,gs://uga-dsp/project2/data/bytes/kKzsPq9NQLSZAOewUgBo.asm,gs://uga-dsp/project2/data/bytes/GkA3vhfoHbwdeKPBl4ZR.asm,gs://uga-dsp/project2/data/bytes/5Of9sWRiPv6dZwHIEqtS.asm,gs://uga-dsp/project2/data/bytes/GYNuhSXjftWM0AELd7Vm.asm,gs://uga-dsp/project2/data/bytes/CWuq8TUdkQPBJOc40znp.asm,gs://uga-dsp/project2/data/bytes/Jwy0VUxr4l9aCQFNp15P.asm,gs://uga-dsp/project2/data/bytes/BR7wK1hkfFncV28it30Q.asm,gs://uga-dsp/project2/data/bytes/DxXaHhzNWCijYObQsPry.asm,gs://uga-dsp/project2/data/bytes/2WBAlcgeu4zZbTNy713v.asm,gs://uga-dsp/project2/data/bytes/HVz3swTcIpKidhADXJCk.asm,gs://uga-dsp/project2/data/bytes/Grcdm4uKwz2C3DNUxkWa.asm,gs://uga-dsp/project2/data/bytes/0bN6ODYWw2xeCQBn3tEg.asm,gs://uga-dsp/project2/data/bytes/j7z5IJT2XyD6lGASxcei.asm,gs://uga-dsp/project2/data/bytes/d9HvRYX1U7fGL0cEieVw.asm,gs://uga-dsp/project2/data/bytes/06KfrF7ltESna2ZHPVp5.asm,gs://uga-dsp/project2/data/bytes/7nvHG46BM95P3SEW1ezy.asm,gs://uga-dsp/project2/data/bytes/Dvs1tiIfjYZJcV0dT2rS.asm,gs://uga-dsp/project2/data/bytes/K2jS3nvYxiVstye7IcCO.asm,gs://uga-dsp/project2/data/bytes/4aMbnHlA9es8vKmOFR2Z.asm,gs://uga-dsp/project2/data/bytes/epR84xcmivMYAn0Nlkzh.asm,gs://uga-dsp/project2/data/bytes/05IXcWGxvnkto4sq17zZ.asm,gs://uga-dsp/project2/data/bytes/C2spzDaAf6rwHJ4tBgFv.asm,gs://uga-dsp/project2/data/bytes/37m1p4lwBUDcJKkPWx62.asm,gs://uga-dsp/project2/data/bytes/2fsOxnz0hDMp6Qt17PoN.asm,gs://uga-dsp/project2/data/bytes/HCGEdW14Kze8xNpaPXqU.asm,gs://uga-dsp/project2/data/bytes/b5qZNQRzLp6MUlfHisoF.asm,gs://uga-dsp/project2/data/bytes/AeZvV9subzRmODWTjrh0.asm,gs://uga-dsp/project2/data/bytes/jGtigsJRXU0zaMbcmpHl.asm,gs://uga-dsp/project2/data/bytes/EhHWtoiAX4kZp3s7wVUc.asm,gs://uga-dsp/project2/data/bytes/6v3n9NO0dMkCVBA5FIf2.asm,gs://uga-dsp/project2/data/bytes/5w6GuqFsfkxg7TWIDQBY.asm,gs://uga-dsp/project2/data/bytes/1Kr7OBDtVilgTNXRAbj9.asm,gs://uga-dsp/project2/data/bytes/5pzfu3smYkTxHvanAwoj.asm,gs://uga-dsp/project2/data/bytes/8xoYOIE7Kf3htDGPbHA4.asm,gs://uga-dsp/project2/data/bytes/9vSJ1dDnwbxl4Fm0By8h.asm,gs://uga-dsp/project2/data/bytes/kdzj2p0qHin4fMBCaPF5.asm,gs://uga-dsp/project2/data/bytes/7zIMcQ35pnFfgE9qr6vs.asm,gs://uga-dsp/project2/data/bytes/6bNyjTBJFmHOoiXYZQ3W.asm,gs://uga-dsp/project2/data/bytes/F6BIw9uWHcxymC7tJsDM.asm,gs://uga-dsp/project2/data/bytes/3rsuE2CHA4WG16fQynUK.asm,gs://uga-dsp/project2/data/bytes/a9qc1ZCzupOiSsjHdx8e.asm,gs://uga-dsp/project2/data/bytes/cgOFjPAr76QExV2piI1H.asm,gs://uga-dsp/project2/data/bytes/Ax8CPSOsnjuY1cDyNbqH.asm,gs://uga-dsp/project2/data/bytes/f4BqH0J1xLkYKI3TEQWm.asm,gs://uga-dsp/project2/data/bytes/8LiHPj7EOaFpnN0uTAW9.asm,gs://uga-dsp/project2/data/bytes/4lFcSekUOy0MsrNxt6wH.asm,gs://uga-dsp/project2/data/bytes/fnuUPBWtXN7bSsMvRDem.asm,gs://uga-dsp/project2/data/bytes/0i4ENysvVrgFnbaHUuJK.asm,gs://uga-dsp/project2/data/bytes/H0ifOVETDIjMrgGWSa4k.asm,gs://uga-dsp/project2/data/bytes/IHyNhQvYnwlsr2fpOMXL.asm,gs://uga-dsp/project2/data/bytes/HJt1Mc578nYFBDdKNkVu.asm,gs://uga-dsp/project2/data/bytes/6N7p0581Hv2oiTfhgCsc.asm,gs://uga-dsp/project2/data/bytes/72ijtUXB1aeWoVIdZrcH.asm,gs://uga-dsp/project2/data/bytes/1hvs5Z9VJaFmwSDnxi6u.asm,gs://uga-dsp/project2/data/bytes/8fgzBbsoHXwJ6UvDhmL4.asm,gs://uga-dsp/project2/data/bytes/0yBQ5dAc2gN4qx9YWuiS.asm,gs://uga-dsp/project2/data/bytes/CgImqd6w4TiAF2JxB80E.asm,gs://uga-dsp/project2/data/bytes/Ds9pnm1hBNrOxVlza3KT.asm,gs://uga-dsp/project2/data/bytes/0odUVkrjp2B1n8NDS6bR.asm,gs://uga-dsp/project2/data/bytes/gXHK1mV3DGIftCOyrk5h.asm,gs://uga-dsp/project2/data/bytes/ht5xflFqOHX0p1Us7PoZ.asm,gs://uga-dsp/project2/data/bytes/gDWiFA4jvZnJQ9H15Xxk.asm,gs://uga-dsp/project2/data/bytes/18AD5lV4StiZfN0pmdGj.asm,gs://uga-dsp/project2/data/bytes/JWawnfh3HmQDGlzXbIRg.asm,gs://uga-dsp/project2/data/bytes/HM9Jf7GmpNd2DLZVcxva.asm,gs://uga-dsp/project2/data/bytes/IQzSymvVCNgMr2qWZUh8.asm,gs://uga-dsp/project2/data/bytes/f82n1geuSzmKDjZwRQts.asm,gs://uga-dsp/project2/data/bytes/JF2417UDdQBcfryqLz3g.asm,gs://uga-dsp/project2/data/bytes/6DIXnfF4Lt2GAkYRi8ep.asm,gs://uga-dsp/project2/data/bytes/Ir6MoxmUc8VLiJKPS3vD.asm,gs://uga-dsp/project2/data/bytes/32WwkMHD8dafQApiKmlv.asm,gs://uga-dsp/project2/data/bytes/bkY5l3uOgwSZqzvnaU7t.asm,gs://uga-dsp/project2/data/bytes/7Tcy2sVaMmJovEDAzr5O.asm,gs://uga-dsp/project2/data/bytes/JZTskw6jx4X5hUElbWLR.asm,gs://uga-dsp/project2/data/bytes/6sgxCbR2f7HD1evw0JSQ.asm,gs://uga-dsp/project2/data/bytes/fZiGCdEYQJ8OVIz7sUyr.asm,gs://uga-dsp/project2/data/bytes/KM7grcA6yBk1J0CmaWiP.asm,gs://uga-dsp/project2/data/bytes/hoTWF75dP83ylkMLAtSQ.asm,gs://uga-dsp/project2/data/bytes/2xlhAE5LO8RFfczB6ep3.asm,gs://uga-dsp/project2/data/bytes/db7pXDtBiKLxP3J2WuEk.asm,gs://uga-dsp/project2/data/bytes/kG29BLiFYPgWtpb350sO.asm,gs://uga-dsp/project2/data/bytes/1YSNBUsrXKc3hWq7IayR.asm,gs://uga-dsp/project2/data/bytes/86QrjZewznD2W3VhpRbm.asm,gs://uga-dsp/project2/data/bytes/dD3WMal5Af62kSHZXGEu.asm,gs://uga-dsp/project2/data/bytes/4tdKOk02GsAmbrDepQZi.asm,gs://uga-dsp/project2/data/bytes/eXbSzZLKAsGrnvDy1TQ4.asm,gs://uga-dsp/project2/data/bytes/0pQ123lKqiLJtFTwjBfG.asm,gs://uga-dsp/project2/data/bytes/9zbitD6NE10I4FjdgJvV.asm,gs://uga-dsp/project2/data/bytes/63JdbfzDMVIrZE0NUyO7.asm,gs://uga-dsp/project2/data/bytes/alOQxMJZq1Idnt5Dgrim.asm,gs://uga-dsp/project2/data/bytes/6Wu9TqbGHMPOCwpZNIA5.asm,gs://uga-dsp/project2/data/bytes/8E2PuBnfWTCXFGJ7RZcV.asm,gs://uga-dsp/project2/data/bytes/J8bOFPzjTYvQdZlEeSuD.asm,gs://uga-dsp/project2/data/bytes/E9WouwaVCiJ7ZXKOA5Yf.asm,gs://uga-dsp/project2/data/bytes/fBto15gFvjNLWk7lxCzr.asm,gs://uga-dsp/project2/data/bytes/jwQPIaD0Urhgv3FH2Cnb.asm,gs://uga-dsp/project2/data/bytes/jC9SO83DwoU4ZBRnpNHA.asm,gs://uga-dsp/project2/data/bytes/280npuOwNHdxPDVmAyLT.asm,gs://uga-dsp/project2/data/bytes/1XKY6TxM2eICFymS4AsN.asm,gs://uga-dsp/project2/data/bytes/02MRILoE6rNhmt7FUi45.asm,gs://uga-dsp/project2/data/bytes/cxCflUQEJT7mNFg08KpM.asm,gs://uga-dsp/project2/data/bytes/jHfu9AMl1GkNWch0Yv53.asm,gs://uga-dsp/project2/data/bytes/bEpoysiFvISXtT3G4OfP.asm,gs://uga-dsp/project2/data/bytes/jgvqdXTZ6pcAebO43NxF.asm,gs://uga-dsp/project2/data/bytes/eBST0wXfIAqj86r9VY5b.asm,gs://uga-dsp/project2/data/bytes/k4OBG1aAohm95uglPQqd.asm,gs://uga-dsp/project2/data/bytes/a84udcisW2mPRvrSFk0w.asm,gs://uga-dsp/project2/data/bytes/c8GdFuQO4TK6r3a0UYmC.asm\n"
     ]
    }
   ],
   "source": [
    "def fun1(accum,n):\n",
    "    if len(n)==0 : return accum\n",
    "    else :return accum + \"gs://uga-dsp/project2/data/bytes/\"+n+\".asm,\"\n",
    "files = sc.textFile(\"data/X_small_train.txt\")\n",
    "wtf = files.reduce(fun1)\n",
    "print(wtf[:-6])"
   ]
  },
  {
   "cell_type": "code",
   "execution_count": 34,
   "metadata": {},
   "outputs": [
    {
     "name": "stdout",
     "output_type": "stream",
     "text": [
      "9\n"
     ]
    }
   ],
   "source": [
    "vocab = sstrs.keys()\n",
    "N = strs.map(lambda x: x[0][0]).distinct().count()\n",
    "print(strs.keys().map(lambda x: x[0]).distinct().count())\n"
   ]
  },
  {
   "cell_type": "code",
   "execution_count": 35,
   "metadata": {},
   "outputs": [
    {
     "data": {
      "text/plain": [
       "[(((0, 'this'), 1), array([ 0.,  0.,  0.,  0.,  0.,  0.,  0.,  0.,  0.])),\n",
       " (((0, 'is'), 1), array([ 0.,  0.,  0.,  0.,  0.,  0.,  0.,  0.,  0.])),\n",
       " (((0, 'something'), 1), array([ 0.,  0.,  0.,  0.,  0.,  0.,  0.,  0.,  0.])),\n",
       " (((0, 'i'), 1), array([ 0.,  0.,  0.,  0.,  0.,  0.,  0.,  0.,  0.])),\n",
       " (((0, 'really'), 1), array([ 0.,  0.,  0.,  0.,  0.,  0.,  0.,  0.,  0.])),\n",
       " (((0, 'want'), 1), array([ 0.,  0.,  0.,  0.,  0.,  0.,  0.,  0.,  0.])),\n",
       " (((0, 'to'), 1), array([ 0.,  0.,  0.,  0.,  0.,  0.,  0.,  0.,  0.])),\n",
       " (((0, 'test'), 1), array([ 0.,  0.,  0.,  0.,  0.,  0.,  0.,  0.,  0.])),\n",
       " (((1, 'to'), 1), array([ 0.,  0.,  0.,  0.,  0.,  0.,  0.,  0.,  0.])),\n",
       " (((1, 'test'), 1), array([ 0.,  0.,  0.,  0.,  0.,  0.,  0.,  0.,  0.])),\n",
       " (((1, 'something'), 1), array([ 0.,  0.,  0.,  0.,  0.,  0.,  0.,  0.,  0.])),\n",
       " (((1, 'is'), 1), array([ 0.,  0.,  0.,  0.,  0.,  0.,  0.,  0.,  0.])),\n",
       " (((1, 'something'), 1), array([ 0.,  0.,  0.,  0.,  0.,  0.,  0.,  0.,  0.])),\n",
       " (((1, 'i'), 1), array([ 0.,  0.,  0.,  0.,  0.,  0.,  0.,  0.,  0.])),\n",
       " (((1, 'really'), 1), array([ 0.,  0.,  0.,  0.,  0.,  0.,  0.,  0.,  0.])),\n",
       " (((1, 'want'), 1), array([ 0.,  0.,  0.,  0.,  0.,  0.,  0.,  0.,  0.])),\n",
       " (((1, 'to'), 1), array([ 0.,  0.,  0.,  0.,  0.,  0.,  0.,  0.,  0.])),\n",
       " (((1, 'do'), 1), array([ 0.,  0.,  0.,  0.,  0.,  0.,  0.,  0.,  0.])),\n",
       " (((2, 'i'), 1), array([ 0.,  0.,  0.,  0.,  0.,  0.,  0.,  0.,  0.])),\n",
       " (((2, 'need'), 1), array([ 0.,  0.,  0.,  0.,  0.,  0.,  0.,  0.,  0.])),\n",
       " (((2, 'to'), 1), array([ 0.,  0.,  0.,  0.,  0.,  0.,  0.,  0.,  0.])),\n",
       " (((2, 'do'), 1), array([ 0.,  0.,  0.,  0.,  0.,  0.,  0.,  0.,  0.])),\n",
       " (((2, 'something'), 1), array([ 0.,  0.,  0.,  0.,  0.,  0.,  0.,  0.,  0.])),\n",
       " (((2, 'that'), 1), array([ 0.,  0.,  0.,  0.,  0.,  0.,  0.,  0.,  0.])),\n",
       " (((2, 'i'), 1), array([ 0.,  0.,  0.,  0.,  0.,  0.,  0.,  0.,  0.])),\n",
       " (((2, 'want'), 1), array([ 0.,  0.,  0.,  0.,  0.,  0.,  0.,  0.,  0.])),\n",
       " (((2, 'to'), 1), array([ 0.,  0.,  0.,  0.,  0.,  0.,  0.,  0.,  0.])),\n",
       " (((2, 'do'), 1), array([ 0.,  0.,  0.,  0.,  0.,  0.,  0.,  0.,  0.])),\n",
       " (((2, 'which'), 1), array([ 0.,  0.,  0.,  0.,  0.,  0.,  0.,  0.,  0.])),\n",
       " (((2, 'is'), 1), array([ 0.,  0.,  0.,  0.,  0.,  0.,  0.,  0.,  0.])),\n",
       " (((2, 'to'), 1), array([ 0.,  0.,  0.,  0.,  0.,  0.,  0.,  0.,  0.])),\n",
       " (((2, 'test'), 1), array([ 0.,  0.,  0.,  0.,  0.,  0.,  0.,  0.,  0.])),\n",
       " (((2, 'something'), 1), array([ 0.,  0.,  0.,  0.,  0.,  0.,  0.,  0.,  0.])),\n",
       " (((3, 'training'), 1), array([ 0.,  0.,  0.,  0.,  0.,  0.,  0.,  0.,  0.])),\n",
       " (((3, 'something'), 1), array([ 0.,  0.,  0.,  0.,  0.,  0.,  0.,  0.,  0.])),\n",
       " (((3, 'is'), 1), array([ 0.,  0.,  0.,  0.,  0.,  0.,  0.,  0.,  0.])),\n",
       " (((3, 'something'), 1), array([ 0.,  0.,  0.,  0.,  0.,  0.,  0.,  0.,  0.])),\n",
       " (((3, 'that'), 1), array([ 0.,  0.,  0.,  0.,  0.,  0.,  0.,  0.,  0.])),\n",
       " (((3, 'i'), 1), array([ 0.,  0.,  0.,  0.,  0.,  0.,  0.,  0.,  0.])),\n",
       " (((3, 'needed'), 1), array([ 0.,  0.,  0.,  0.,  0.,  0.,  0.,  0.,  0.])),\n",
       " (((3, 'to'), 1), array([ 0.,  0.,  0.,  0.,  0.,  0.,  0.,  0.,  0.])),\n",
       " (((3, 'do'), 1), array([ 0.,  0.,  0.,  0.,  0.,  0.,  0.,  0.,  0.])),\n",
       " (((4, 'i'), 1), array([ 0.,  0.,  0.,  0.,  0.,  0.,  0.,  0.,  0.])),\n",
       " (((4, 'trained'), 1), array([ 0.,  0.,  0.,  0.,  0.,  0.,  0.,  0.,  0.])),\n",
       " (((4, 'something'), 1), array([ 0.,  0.,  0.,  0.,  0.,  0.,  0.,  0.,  0.])),\n",
       " (((4, 'and'), 1), array([ 0.,  0.,  0.,  0.,  0.,  0.,  0.,  0.,  0.])),\n",
       " (((4, 'that'), 1), array([ 0.,  0.,  0.,  0.,  0.,  0.,  0.,  0.,  0.])),\n",
       " (((4, 'something'), 1), array([ 0.,  0.,  0.,  0.,  0.,  0.,  0.,  0.,  0.])),\n",
       " (((4, 'was'), 1), array([ 0.,  0.,  0.,  0.,  0.,  0.,  0.,  0.,  0.])),\n",
       " (((4, 'what'), 1), array([ 0.,  0.,  0.,  0.,  0.,  0.,  0.,  0.,  0.])),\n",
       " (((4, 'i'), 1), array([ 0.,  0.,  0.,  0.,  0.,  0.,  0.,  0.,  0.])),\n",
       " (((4, 'needed'), 1), array([ 0.,  0.,  0.,  0.,  0.,  0.,  0.,  0.,  0.])),\n",
       " (((4, 'to'), 1), array([ 0.,  0.,  0.,  0.,  0.,  0.,  0.,  0.,  0.])),\n",
       " (((4, 'do'), 1), array([ 0.,  0.,  0.,  0.,  0.,  0.,  0.,  0.,  0.])),\n",
       " (((5, 'something'), 1), array([ 0.,  0.,  0.,  0.,  0.,  0.,  0.,  0.,  0.])),\n",
       " (((5, 'i'), 1), array([ 0.,  0.,  0.,  0.,  0.,  0.,  0.,  0.,  0.])),\n",
       " (((5, 'needed'), 1), array([ 0.,  0.,  0.,  0.,  0.,  0.,  0.,  0.,  0.])),\n",
       " (((5, 'to'), 1), array([ 0.,  0.,  0.,  0.,  0.,  0.,  0.,  0.,  0.])),\n",
       " (((5, 'do'), 1), array([ 0.,  0.,  0.,  0.,  0.,  0.,  0.,  0.,  0.])),\n",
       " (((5, 'was'), 1), array([ 0.,  0.,  0.,  0.,  0.,  0.,  0.,  0.,  0.])),\n",
       " (((5, 'to'), 1), array([ 0.,  0.,  0.,  0.,  0.,  0.,  0.,  0.,  0.])),\n",
       " (((5, 'train'), 1), array([ 0.,  0.,  0.,  0.,  0.,  0.,  0.,  0.,  0.])),\n",
       " (((5, 'something'), 1), array([ 0.,  0.,  0.,  0.,  0.,  0.,  0.,  0.,  0.])),\n",
       " (((6, 'something'), 1), array([ 0.,  0.,  0.,  0.,  0.,  0.,  0.,  0.,  0.])),\n",
       " (((6, 'trained'), 1), array([ 0.,  0.,  0.,  0.,  0.,  0.,  0.,  0.,  0.])),\n",
       " (((6, 'is'), 1), array([ 0.,  0.,  0.,  0.,  0.,  0.,  0.,  0.,  0.])),\n",
       " (((6, 'something'), 1), array([ 0.,  0.,  0.,  0.,  0.,  0.,  0.,  0.,  0.])),\n",
       " (((6, 'that'), 1), array([ 0.,  0.,  0.,  0.,  0.,  0.,  0.,  0.,  0.])),\n",
       " (((6, 'needed'), 1), array([ 0.,  0.,  0.,  0.,  0.,  0.,  0.,  0.,  0.])),\n",
       " (((6, 'to'), 1), array([ 0.,  0.,  0.,  0.,  0.,  0.,  0.,  0.,  0.])),\n",
       " (((6, 'be'), 1), array([ 0.,  0.,  0.,  0.,  0.,  0.,  0.,  0.,  0.])),\n",
       " (((6, 'done'), 1), array([ 0.,  0.,  0.,  0.,  0.,  0.,  0.,  0.,  0.])),\n",
       " (((7, 'if'), 1), array([ 0.,  0.,  0.,  0.,  0.,  0.,  0.,  0.,  0.])),\n",
       " (((7, 'you'), 1), array([ 0.,  0.,  0.,  0.,  0.,  0.,  0.,  0.,  0.])),\n",
       " (((7, 'want'), 1), array([ 0.,  0.,  0.,  0.,  0.,  0.,  0.,  0.,  0.])),\n",
       " (((7, 'to'), 1), array([ 0.,  0.,  0.,  0.,  0.,  0.,  0.,  0.,  0.])),\n",
       " (((7, 'train'), 1), array([ 0.,  0.,  0.,  0.,  0.,  0.,  0.,  0.,  0.])),\n",
       " (((7, 'something'), 1), array([ 0.,  0.,  0.,  0.,  0.,  0.,  0.,  0.,  0.])),\n",
       " (((7, 'something'), 1), array([ 0.,  0.,  0.,  0.,  0.,  0.,  0.,  0.,  0.])),\n",
       " (((7, 'has'), 1), array([ 0.,  0.,  0.,  0.,  0.,  0.,  0.,  0.,  0.])),\n",
       " (((7, 'to'), 1), array([ 0.,  0.,  0.,  0.,  0.,  0.,  0.,  0.,  0.])),\n",
       " (((7, 'be'), 1), array([ 0.,  0.,  0.,  0.,  0.,  0.,  0.,  0.,  0.])),\n",
       " (((7, 'trained'), 1), array([ 0.,  0.,  0.,  0.,  0.,  0.,  0.,  0.,  0.])),\n",
       " (((8, 'train'), 1), array([ 0.,  0.,  0.,  0.,  0.,  0.,  0.,  0.,  0.])),\n",
       " (((8, 'it'), 1), array([ 0.,  0.,  0.,  0.,  0.,  0.,  0.,  0.,  0.])),\n",
       " (((8, 'like'), 1), array([ 0.,  0.,  0.,  0.,  0.,  0.,  0.,  0.,  0.])),\n",
       " (((8, \"you've\"), 1), array([ 0.,  0.,  0.,  0.,  0.,  0.,  0.,  0.,  0.])),\n",
       " (((8, 'never'), 1), array([ 0.,  0.,  0.,  0.,  0.,  0.,  0.,  0.,  0.])),\n",
       " (((8, 'trained'), 1), array([ 0.,  0.,  0.,  0.,  0.,  0.,  0.,  0.,  0.])),\n",
       " (((8, 'it'), 1), array([ 0.,  0.,  0.,  0.,  0.,  0.,  0.,  0.,  0.])),\n",
       " (((8, 'before'), 1), array([ 0.,  0.,  0.,  0.,  0.,  0.,  0.,  0.,  0.]))]"
      ]
     },
     "execution_count": 35,
     "metadata": {},
     "output_type": "execute_result"
    }
   ],
   "source": [
    "strs = strs.map(lambda x: (x,np.zeros(N)))\n",
    "strs.collect()"
   ]
  },
  {
   "cell_type": "code",
   "execution_count": null,
   "metadata": {
    "collapsed": true
   },
   "outputs": [],
   "source": []
  }
 ],
 "metadata": {
  "kernelspec": {
   "display_name": "Python 3",
   "language": "python",
   "name": "python3"
  },
  "language_info": {
   "codemirror_mode": {
    "name": "ipython",
    "version": 3
   },
   "file_extension": ".py",
   "mimetype": "text/x-python",
   "name": "python",
   "nbconvert_exporter": "python",
   "pygments_lexer": "ipython3",
   "version": "3.6.1"
  }
 },
 "nbformat": 4,
 "nbformat_minor": 2
}
