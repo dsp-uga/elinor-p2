{
 "cells": [
  {
   "cell_type": "code",
   "execution_count": 1,
   "metadata": {},
   "outputs": [],
   "source": [
    "import findspark\n",
    "findspark.init()\n",
    "import pyspark\n",
    "from operator import add\n",
    "from pyspark import SparkConf\n",
    "from pyspark.ml.feature import NGram\n",
    "from pyspark.sql.functions import col,udf\n",
    "from pyspark.sql import SQLContext, Row\n",
    "from pyspark.mllib.linalg.distributed import CoordinateMatrix, MatrixEntry\n",
    "import re"
   ]
  },
  {
   "cell_type": "code",
   "execution_count": 2,
   "metadata": {},
   "outputs": [],
   "source": [
    "sc = pyspark.SparkContext('local[*]',appName=\"DocClassification\")\n",
    "sqlc = SQLContext(sc)"
   ]
  },
  {
   "cell_type": "code",
   "execution_count": 3,
   "metadata": {},
   "outputs": [],
   "source": [
    "rdd1= sc.wholeTextFiles(\"/home/vyom/UGA/DSP/Project2/data/train/asm/0bN6ODYWw2xeCQBn3tEg.asm,/home/vyom/UGA/DSP/Project2/data/train/asm/0eN9lyQfwmTVk7C2ZoYp.asm,/home/vyom/UGA/DSP/Project2/data/train/asm/0H63jydvIahOVqgx5Kfo.asm,/home/vyom/UGA/DSP/Project2/data/train/asm/0hZEqJ5eMVjU21HAG7Ii.asm\")\n",
    "#rdd1= sc.wholeTextFiles(\"/home/vyom/UGA/DSP/Project2/data/train/asm/\")"
   ]
  },
  {
   "cell_type": "code",
   "execution_count": 4,
   "metadata": {},
   "outputs": [],
   "source": [
    "#rdd1.count()"
   ]
  },
  {
   "cell_type": "code",
   "execution_count": 4,
   "metadata": {},
   "outputs": [],
   "source": [
    "OpcodesList = sc.textFile(\"/home/vyom/UGA/DSP/Project2/allOpcodes.txt\")\n",
    "opcodes= sc.broadcast(sc.textFile(\"/home/vyom/UGA/DSP/Project2/allOpcodes.txt\").collect())"
   ]
  },
  {
   "cell_type": "markdown",
   "metadata": {},
   "source": [
    "# Get Opcodes list using python approach"
   ]
  },
  {
   "cell_type": "code",
   "execution_count": 6,
   "metadata": {},
   "outputs": [],
   "source": [
    "opcodesInDoc = rdd1.map(lambda x: x[1].split()).map(lambda x: [word for word in x if word in opcodes.value]).zipWithIndex().map(lambda x: (x[1],x[0]))"
   ]
  },
  {
   "cell_type": "code",
   "execution_count": 7,
   "metadata": {
    "scrolled": true
   },
   "outputs": [],
   "source": [
    "#opcodesInDoc.take(10)"
   ]
  },
  {
   "cell_type": "markdown",
   "metadata": {},
   "source": [
    "# Get Opcodes list using mostly spark"
   ]
  },
  {
   "cell_type": "code",
   "execution_count": 8,
   "metadata": {
    "scrolled": true
   },
   "outputs": [],
   "source": [
    "#opcodesInDoc = rdd1.zipWithIndex().map(lambda x: (x[1],x[0][1].split())).flatMapValues(lambda x: x).filter(lambda x: x[1] in opcodes.value).groupByKey().map(lambda x: (x[0],list(x[1])))"
   ]
  },
  {
   "cell_type": "code",
   "execution_count": 9,
   "metadata": {},
   "outputs": [],
   "source": [
    "#opcodesInDoc.take(10)"
   ]
  },
  {
   "cell_type": "markdown",
   "metadata": {},
   "source": [
    "# Get N-grams and N-grams count"
   ]
  },
  {
   "cell_type": "code",
   "execution_count": 10,
   "metadata": {},
   "outputs": [],
   "source": [
    "ngramFrame = sqlc.createDataFrame(opcodesInDoc,[\"docId\",\"opcodes\"])"
   ]
  },
  {
   "cell_type": "code",
   "execution_count": 12,
   "metadata": {
    "scrolled": true
   },
   "outputs": [],
   "source": [
    "twoGram = NGram(n=2, inputCol=\"opcodes\", outputCol=\"2grams\")\n",
    "ngramFrame = twoGram.transform(ngramFrame)"
   ]
  },
  {
   "cell_type": "code",
   "execution_count": 13,
   "metadata": {},
   "outputs": [],
   "source": [
    "threeGram = NGram(n=3, inputCol=\"opcodes\", outputCol=\"3grams\")\n",
    "ngramFrame= threeGram.transform(ngramFrame)"
   ]
  },
  {
   "cell_type": "code",
   "execution_count": 14,
   "metadata": {},
   "outputs": [],
   "source": [
    "fourGram = NGram(n=4, inputCol=\"opcodes\", outputCol=\"4grams\")\n",
    "ngramFrame = fourGram.transform(ngramFrame)"
   ]
  },
  {
   "cell_type": "code",
   "execution_count": 15,
   "metadata": {},
   "outputs": [],
   "source": [
    "twoGramRdd = ngramFrame.select(\"docId\",\"2grams\").rdd.map(tuple)\n",
    "threeGramRdd =ngramFrame.select(\"docId\",\"3grams\").rdd.map(tuple)\n",
    "fourGramRdd =ngramFrame.select(\"docId\",\"4grams\").rdd.map(tuple)"
   ]
  },
  {
   "cell_type": "code",
   "execution_count": 16,
   "metadata": {},
   "outputs": [],
   "source": [
    "oneGramCounts = opcodesInDoc.flatMapValues(lambda x: x).map(lambda x: (x,1)).reduceByKey(add).map(lambda x: ((x[0][0],x[0][1]),x[1]))"
   ]
  },
  {
   "cell_type": "code",
   "execution_count": 17,
   "metadata": {},
   "outputs": [],
   "source": [
    "twoGramCounts = twoGramRdd.flatMapValues(lambda x: x).map(lambda x: (x,1)).reduceByKey(add).map(lambda x: ((x[0][0],x[0][1]),x[1]))"
   ]
  },
  {
   "cell_type": "code",
   "execution_count": 18,
   "metadata": {},
   "outputs": [],
   "source": [
    "threeGramCounts = threeGramRdd.flatMapValues(lambda x: x).map(lambda x: (x,1)).reduceByKey(add).map(lambda x: ((x[0][0],x[0][1]),x[1]))"
   ]
  },
  {
   "cell_type": "code",
   "execution_count": 19,
   "metadata": {},
   "outputs": [],
   "source": [
    "fourGramCounts = fourGramRdd.flatMapValues(lambda x: x).map(lambda x: (x,1)).reduceByKey(add).map(lambda x: ((x[0][0],x[0][1]),x[1]))"
   ]
  },
  {
   "cell_type": "markdown",
   "metadata": {},
   "source": [
    "# Get the sparse matrix"
   ]
  },
  {
   "cell_type": "code",
   "execution_count": 21,
   "metadata": {},
   "outputs": [],
   "source": [
    "labels = sc.textFile(\"/home/vyom/UGA/DSP/Project2/data/train/y_small_train.txt\")"
   ]
  },
  {
   "cell_type": "code",
   "execution_count": 22,
   "metadata": {},
   "outputs": [],
   "source": [
    "labelRdd = labels.zipWithIndex()"
   ]
  },
  {
   "cell_type": "code",
   "execution_count": 23,
   "metadata": {},
   "outputs": [],
   "source": [
    "labelRdd = sc.parallelize(labelRdd.take(4))"
   ]
  },
  {
   "cell_type": "code",
   "execution_count": 24,
   "metadata": {},
   "outputs": [],
   "source": [
    "labelFrame = labelRdd.toDF([\"did\",\"label\"])"
   ]
  },
  {
   "cell_type": "code",
   "execution_count": 25,
   "metadata": {},
   "outputs": [],
   "source": [
    "allFeatures = sc.union([oneGramCounts,twoGramCounts,threeGramCounts,fourGramCounts])"
   ]
  },
  {
   "cell_type": "code",
   "execution_count": 26,
   "metadata": {},
   "outputs": [],
   "source": [
    "allFeatures = allFeatures.reduceByKey(add).map(lambda x: (x[0][1],(x[0][0],x[1])))"
   ]
  },
  {
   "cell_type": "code",
   "execution_count": 27,
   "metadata": {},
   "outputs": [],
   "source": [
    "vocab = allFeatures.keys().distinct().zipWithIndex()"
   ]
  },
  {
   "cell_type": "code",
   "execution_count": 28,
   "metadata": {},
   "outputs": [],
   "source": [
    "allFeaturesJoined = allFeatures.join(vocab).map(lambda x: (x[1][0][0],x[1][1],x[1][0][1]))"
   ]
  },
  {
   "cell_type": "code",
   "execution_count": 29,
   "metadata": {},
   "outputs": [
    {
     "name": "stdout",
     "output_type": "stream",
     "text": [
      "+---+--------------------+\n",
      "|did|            features|\n",
      "+---+--------------------+\n",
      "|  0|(22795,[4,6,10,16...|\n",
      "|  1|(22795,[124,144,3...|\n",
      "|  2|(22795,[0,1,2,3,5...|\n",
      "|  3|(22795,[231,236,3...|\n",
      "+---+--------------------+\n",
      "\n"
     ]
    }
   ],
   "source": [
    "allFeatureMat = allFeaturesJoined.map(lambda x: MatrixEntry(x[0],x[1],x[2]))\n",
    "mat = CoordinateMatrix(allFeatureMat).toIndexedRowMatrix().rows.toDF([\"did\",\"features\"])"
   ]
  },
  {
   "cell_type": "code",
   "execution_count": 30,
   "metadata": {},
   "outputs": [],
   "source": [
    "mat.write.parquet(\"/home/vyom/UGA/DSP/Project2/output3\")"
   ]
  },
  {
   "cell_type": "markdown",
   "metadata": {},
   "source": [
    "# Get all N-grams "
   ]
  },
  {
   "cell_type": "code",
   "execution_count": 21,
   "metadata": {},
   "outputs": [],
   "source": [
    "allTwoGrams = twoGramCounts.map(lambda x: (x[1][0],1)).reduceByKey(add).map(lambda x: x[0])"
   ]
  },
  {
   "cell_type": "code",
   "execution_count": 22,
   "metadata": {},
   "outputs": [],
   "source": [
    "allThreeGrams = threeGramCounts.map(lambda x: (x[1][0],1)).reduceByKey(add).map(lambda x: x[0])"
   ]
  },
  {
   "cell_type": "code",
   "execution_count": 23,
   "metadata": {},
   "outputs": [],
   "source": [
    "allFourGrams = fourGramCounts.map(lambda x: (x[1][0],1)).reduceByKey(add).map(lambda x: x[0])"
   ]
  },
  {
   "cell_type": "code",
   "execution_count": 24,
   "metadata": {},
   "outputs": [],
   "source": [
    "features= OpcodesList.union(allTwoGrams).union(allThreeGrams).union(allFourGrams)"
   ]
  },
  {
   "cell_type": "code",
   "execution_count": 25,
   "metadata": {},
   "outputs": [],
   "source": [
    "featureFrame = sqlc.createDataFrame(opcodesInDoc,[\"docId\",\"opcodes\"])"
   ]
  },
  {
   "cell_type": "code",
   "execution_count": 61,
   "metadata": {},
   "outputs": [
    {
     "name": "stdout",
     "output_type": "stream",
     "text": [
      "+-----+--------------------+\n",
      "|docId|             opcodes|\n",
      "+-----+--------------------+\n",
      "|    0|[in, mov, jmp, in...|\n",
      "|    1|[in, mov, push, p...|\n",
      "|    2|[in, sub, pusha, ...|\n",
      "|    3|[in, mov, push, c...|\n",
      "+-----+--------------------+\n",
      "\n"
     ]
    }
   ],
   "source": [
    "featureFrame.show()"
   ]
  },
  {
   "cell_type": "markdown",
   "metadata": {},
   "source": [
    "# label wise N-gram\n"
   ]
  },
  {
   "cell_type": "code",
   "execution_count": 22,
   "metadata": {},
   "outputs": [],
   "source": []
  },
  {
   "cell_type": "code",
   "execution_count": 23,
   "metadata": {},
   "outputs": [],
   "source": []
  },
  {
   "cell_type": "code",
   "execution_count": 33,
   "metadata": {},
   "outputs": [],
   "source": [
    "# The code line below is just to get labels only for the 4 files used"
   ]
  },
  {
   "cell_type": "code",
   "execution_count": 24,
   "metadata": {},
   "outputs": [],
   "source": [
    "labelRdd = sc.parallelize(labelRdd.take(4))labelRdd = sc.parallelize(labelRdd.take(4))"
   ]
  },
  {
   "cell_type": "code",
   "execution_count": 25,
   "metadata": {},
   "outputs": [],
   "source": [
    "labelWiseOneGramCounts = oneGramCounts.leftOuterJoin(labelRdd).map(lambda x: (x[1][1],(x[1][0],x[0])))"
   ]
  },
  {
   "cell_type": "code",
   "execution_count": 26,
   "metadata": {},
   "outputs": [],
   "source": [
    "labelWisetTwoGramCounts = twoGramCounts.leftOuterJoin(labelRdd).map(lambda x: (x[1][1],(x[1][0],x[0])))"
   ]
  },
  {
   "cell_type": "code",
   "execution_count": 27,
   "metadata": {},
   "outputs": [],
   "source": [
    "labelWiseThreeGramCounts = threeGramCounts.leftOuterJoin(labelRdd).map(lambda x: (x[1][1],(x[1][0],x[0])))"
   ]
  },
  {
   "cell_type": "code",
   "execution_count": 28,
   "metadata": {},
   "outputs": [],
   "source": [
    "labelWiseFourGramCounts = fourGramCounts.leftOuterJoin(labelRdd).map(lambda x: (x[1][1],(x[1][0],x[0])))"
   ]
  },
  {
   "cell_type": "code",
   "execution_count": 35,
   "metadata": {},
   "outputs": [
    {
     "data": {
      "text/plain": [
       "[('6', (('fidiv', 2), 0)),\n",
       " ('6', (('fld1', 3), 0)),\n",
       " ('6', (('cld', 11), 0)),\n",
       " ('6', (('mov', 4338), 0)),\n",
       " ('6', (('call', 558), 0)),\n",
       " ('6', (('fabs', 1), 0)),\n",
       " ('6', (('in', 8), 0)),\n",
       " ('6', (('pop', 523), 0)),\n",
       " ('6', (('jmp', 226), 0)),\n",
       " ('6', (('fscale', 1), 0))]"
      ]
     },
     "execution_count": 35,
     "metadata": {},
     "output_type": "execute_result"
    }
   ],
   "source": [
    "labelWiseOneGramCounts.take(10)"
   ]
  },
  {
   "cell_type": "markdown",
   "metadata": {},
   "source": [
    "# Getting sparse matrix"
   ]
  },
  {
   "cell_type": "code",
   "execution_count": 31,
   "metadata": {},
   "outputs": [],
   "source": [
    "#labelWiseOneGramCounts.reduceByKey(add).collect()"
   ]
  },
  {
   "cell_type": "markdown",
   "metadata": {},
   "source": [
    "# Extract Segments"
   ]
  },
  {
   "cell_type": "code",
   "execution_count": 32,
   "metadata": {},
   "outputs": [],
   "source": [
    "segments = rdd1.zipWithIndex().map(lambda x: (x[1],x[0][1].splitlines())).map(lambda x: (x[0],[re.findall(r'\\w+:?(?=:)',word) for word in x[1]])).flatMapValues(lambda x: x).map(lambda x: (x[0],x[1][0]))"
   ]
  },
  {
   "cell_type": "code",
   "execution_count": null,
   "metadata": {},
   "outputs": [],
   "source": []
  },
  {
   "cell_type": "code",
   "execution_count": null,
   "metadata": {},
   "outputs": [],
   "source": []
  },
  {
   "cell_type": "code",
   "execution_count": 35,
   "metadata": {},
   "outputs": [
    {
     "data": {
      "text/plain": [
       "[((0, 'fidiv'), [2]),\n",
       " ((1, 'retn'), [40]),\n",
       " ((1, 'sub'), [3]),\n",
       " ((3, 'sub'), [3]),\n",
       " ((0, 'cld'), [11]),\n",
       " ((2, 'int'), [367]),\n",
       " ((2, 'setle'), [3]),\n",
       " ((2, 'stosw'), [6]),\n",
       " ((2, 'repe'), [9]),\n",
       " ((2, 'jb'), [196])]"
      ]
     },
     "execution_count": 35,
     "metadata": {},
     "output_type": "execute_result"
    }
   ],
   "source": [
    "oneGramCounts.mapValues(lambda x: [x]).reduceByKey(add).take(10)"
   ]
  },
  {
   "cell_type": "code",
   "execution_count": null,
   "metadata": {},
   "outputs": [],
   "source": []
  }
 ],
 "metadata": {
  "kernelspec": {
   "display_name": "Python 3",
   "language": "python",
   "name": "python3"
  },
  "language_info": {
   "codemirror_mode": {
    "name": "ipython",
    "version": 3
   },
   "file_extension": ".py",
   "mimetype": "text/x-python",
   "name": "python",
   "nbconvert_exporter": "python",
   "pygments_lexer": "ipython3",
   "version": "3.5.2"
  }
 },
 "nbformat": 4,
 "nbformat_minor": 2
}
