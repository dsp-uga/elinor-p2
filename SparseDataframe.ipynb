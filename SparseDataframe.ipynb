{
 "cells": [
  {
   "cell_type": "code",
   "execution_count": 1,
   "metadata": {
    "collapsed": true
   },
   "outputs": [],
   "source": [
    "import pyspark\n",
    "from operator import add\n",
    "from pyspark import SparkConf\n",
    "from pyspark.ml.feature import NGram\n",
    "from pyspark.sql.functions import col,udf\n",
    "from pyspark.sql import SQLContext\n",
    "from operator import add\n",
    "import numpy as np\n",
    "from pyspark.mllib.linalg.distributed import CoordinateMatrix, MatrixEntry\n",
    "import string\n",
    "from pyspark.mllib.util import MLUtils\n",
    "from pyspark.ml.linalg import Vectors, VectorUDT\n",
    "from pyspark.ml.feature import StringIndexer, VectorIndexer\n",
    "sc = pyspark.SparkContext('local[*]',appName=\"DocClassification\")\n",
    "sqlc = SQLContext(sc)\n",
    "\n"
   ]
  },
  {
   "cell_type": "markdown",
   "metadata": {},
   "source": []
  },
  {
   "cell_type": "code",
   "execution_count": 6,
   "metadata": {},
   "outputs": [
    {
     "name": "stdout",
     "output_type": "stream",
     "text": [
      "[((0, 'this'), 1), ((0, 'is'), 1), ((0, 'something'), 1), ((0, 'i'), 1), ((0, 'really'), 1), ((0, 'want'), 1), ((0, 'to'), 1), ((0, 'test'), 1), ((1, 'to'), 1), ((1, 'test'), 1), ((1, 'something'), 1), ((1, 'is'), 1), ((1, 'something'), 1), ((1, 'i'), 1), ((1, 'really'), 1), ((1, 'want'), 1), ((1, 'to'), 1), ((1, 'do'), 1), ((2, 'i'), 1), ((2, 'need'), 1), ((2, 'to'), 1), ((2, 'do'), 1), ((2, 'something'), 1), ((2, 'that'), 1), ((2, 'i'), 1), ((2, 'want'), 1), ((2, 'to'), 1), ((2, 'do'), 1), ((2, 'which'), 1), ((2, 'is'), 1), ((2, 'to'), 1), ((2, 'test'), 1), ((2, 'something'), 1)]\n",
      "+---+-----+\n",
      "|did|label|\n",
      "+---+-----+\n",
      "|  1|    1|\n",
      "|  2|    0|\n",
      "|  3|    1|\n",
      "+---+-----+\n",
      "\n"
     ]
    }
   ],
   "source": [
    "def swap(x):\n",
    "    return (x[1],x[0])\n",
    "\n",
    "strs = sc.parallelize([\"This is something I really want to test.\",\n",
    "                       \"To test something is something I really want to do.\",\n",
    "                       \"I need to do something that I want to do which is to test something.\"])\n",
    "strs = strs.zipWithIndex()\\\n",
    "            .map(lambda x: swap(x))\\\n",
    "            .flatMapValues(lambda x: x.split())\\\n",
    "            .mapValues(lambda x: x.lower().strip(string.punctuation))\\\n",
    "            .map(lambda x: ((x[0],x[1]),1))\n",
    "\n",
    "labs = sc.parallelize([(1,1),(2,0),(3,1)]).toDF([\"did\",\"label\"])\n",
    "            \n",
    "print(strs.collect())\n",
    "labs.show()\n"
   ]
  },
  {
   "cell_type": "code",
   "execution_count": 7,
   "metadata": {},
   "outputs": [
    {
     "name": "stdout",
     "output_type": "stream",
     "text": [
      "[(0, 0, 1), (0, 2, 1), (0, 3, 1), (0, 8, 1), (0, 4, 1), (0, 9, 1), (0, 10, 1), (0, 11, 1), (1, 0, 1), (1, 2, 2), (1, 3, 1), (1, 1, 1), (1, 4, 2), (1, 9, 1), (1, 10, 1), (1, 11, 1), (2, 0, 2), (2, 2, 2), (2, 5, 1), (2, 6, 1), (2, 7, 1), (2, 1, 2), (2, 4, 3), (2, 9, 1), (2, 10, 1), (2, 11, 1)]\n",
      "+---+--------------------+\n",
      "|did|            features|\n",
      "+---+--------------------+\n",
      "|  0|(12,[0,2,3,4,8,9,...|\n",
      "|  1|(12,[0,1,2,3,4,9,...|\n",
      "|  2|(12,[0,1,2,4,5,6,...|\n",
      "+---+--------------------+\n",
      "\n"
     ]
    }
   ],
   "source": [
    "sstrs = strs.reduceByKey(add)\\\n",
    "            .map(lambda x: (x[0][1],(x[0][0],x[1])))\n",
    "    \n",
    "vocab = sstrs.keys().distinct().zipWithIndex()\n",
    "\n",
    "sstrs = sstrs.join(vocab).map(lambda x: (x[1][0][0],x[1][1],x[1][0][1]))\n",
    "print(sstrs.sortBy(lambda x: x[0]).collect())\n",
    "\n",
    "sstrs = sstrs.map(lambda x: MatrixEntry(x[0],x[1],x[2]))\n",
    "mat = CoordinateMatrix(sstrs).toIndexedRowMatrix().rows.toDF([\"did\",\"features\"])\n",
    "mat.show()"
   ]
  },
  {
   "cell_type": "code",
   "execution_count": 9,
   "metadata": {},
   "outputs": [
    {
     "name": "stdout",
     "output_type": "stream",
     "text": [
      "+---+--------------------+---+-----+\n",
      "|did|            features|did|label|\n",
      "+---+--------------------+---+-----+\n",
      "|  1|(12,[0,1,2,3,4,9,...|  1|    1|\n",
      "|  2|(12,[0,1,2,4,5,6,...|  2|    0|\n",
      "+---+--------------------+---+-----+\n",
      "\n"
     ]
    }
   ],
   "source": [
    "fin = mat.join(labs,mat.did==labs.did)\n",
    "fin.show()"
   ]
  },
  {
   "cell_type": "code",
   "execution_count": null,
   "metadata": {
    "collapsed": true
   },
   "outputs": [],
   "source": []
  }
 ],
 "metadata": {
  "kernelspec": {
   "display_name": "Python 3",
   "language": "python",
   "name": "python3"
  },
  "language_info": {
   "codemirror_mode": {
    "name": "ipython",
    "version": 3
   },
   "file_extension": ".py",
   "mimetype": "text/x-python",
   "name": "python",
   "nbconvert_exporter": "python",
   "pygments_lexer": "ipython3",
   "version": "3.6.1"
  }
 },
 "nbformat": 4,
 "nbformat_minor": 2
}
