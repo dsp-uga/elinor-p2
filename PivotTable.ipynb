{
 "cells": [
  {
   "cell_type": "code",
   "execution_count": 1,
   "metadata": {
    "collapsed": true
   },
   "outputs": [],
   "source": [
    "import pyspark\n",
    "from operator import add\n",
    "from pyspark import SparkConf\n",
    "from pyspark.ml.feature import NGram\n",
    "from pyspark.sql.functions import col,udf\n",
    "from pyspark.sql import SQLContext\n",
    "from operator import add\n",
    "import numpy as np\n",
    "sc = pyspark.SparkContext('local[*]',appName=\"DocClassification\")\n",
    "sqlc = SQLContext(sc)\n",
    "\n"
   ]
  },
  {
   "cell_type": "code",
   "execution_count": 25,
   "metadata": {},
   "outputs": [
    {
     "name": "stdout",
     "output_type": "stream",
     "text": [
      "+---+---------+-----+\n",
      "|did|      wid|count|\n",
      "+---+---------+-----+\n",
      "|  0|     this|    1|\n",
      "|  0|       is|    1|\n",
      "|  0|something|    1|\n",
      "|  0|        i|    1|\n",
      "|  0|   really|    1|\n",
      "|  0|     want|    1|\n",
      "|  0|       to|    1|\n",
      "|  0|    test.|    1|\n",
      "|  1|       to|    1|\n",
      "|  1|     test|    1|\n",
      "|  1|something|    1|\n",
      "|  1|       is|    1|\n",
      "|  1|something|    1|\n",
      "|  1|        i|    1|\n",
      "|  1|   really|    1|\n",
      "|  1|     want|    1|\n",
      "|  1|       to|    1|\n",
      "|  1|      do.|    1|\n",
      "|  2|        i|    1|\n",
      "|  2|     need|    1|\n",
      "+---+---------+-----+\n",
      "only showing top 20 rows\n",
      "\n",
      "+---+----+----+---+---+----+------+---------+----------+----+-----+----+----+---+----+-----+\n",
      "|did|  do| do.|  i| is|need|really|something|something.|test|test.|that|this| to|want|which|\n",
      "+---+----+----+---+---+----+------+---------+----------+----+-----+----+----+---+----+-----+\n",
      "|  0|null|null|  1|  1|null|     1|        1|      null|null|    1|null|   1|  1|   1| null|\n",
      "|  1|null|   1|  1|  1|null|     1|        2|      null|   1| null|null|null|  2|   1| null|\n",
      "|  2|   2|null|  2|  1|   1|  null|        1|         1|   1| null|   1|null|  3|   1|    1|\n",
      "+---+----+----+---+---+----+------+---------+----------+----+-----+----+----+---+----+-----+\n",
      "\n"
     ]
    }
   ],
   "source": [
    "def swap(x):\n",
    "    return (x[1],x[0])\n",
    "\n",
    "strs = sc.parallelize([\"This is something I really want to test.\",\"To test something is something I really want to do.\",\"I need to do something that I want to do which is to test something.\"])\n",
    "strs = strs.zipWithIndex()\\\n",
    "            .map(lambda x: swap(x))\\\n",
    "            .flatMapValues(lambda x: x.split())\\\n",
    "            .mapValues(lambda x: x.lower())\\\n",
    "            .map(lambda x: (x[0],x[1],1))\n",
    "\n",
    "strs.collect()\n",
    "\n",
    "df = sqlc.createDataFrame(strs,schema = ['did','wid','count'])\n",
    "df.show()\n",
    "df.groupBy('did').pivot('wid').sum('count').show()"
   ]
  },
  {
   "cell_type": "code",
   "execution_count": null,
   "metadata": {
    "collapsed": true
   },
   "outputs": [],
   "source": []
  }
 ],
 "metadata": {
  "kernelspec": {
   "display_name": "Python 3",
   "language": "python",
   "name": "python3"
  },
  "language_info": {
   "codemirror_mode": {
    "name": "ipython",
    "version": 3
   },
   "file_extension": ".py",
   "mimetype": "text/x-python",
   "name": "python",
   "nbconvert_exporter": "python",
   "pygments_lexer": "ipython3",
   "version": "3.6.1"
  }
 },
 "nbformat": 4,
 "nbformat_minor": 2
}
